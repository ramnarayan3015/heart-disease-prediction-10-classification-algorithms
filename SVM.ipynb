{
 "cells": [
  {
   "cell_type": "code",
   "execution_count": 2,
   "id": "7caec450",
   "metadata": {},
   "outputs": [],
   "source": [
    "import numpy as np\n",
    "import pandas as pd\n",
    "import pickle as pkl\n",
    "import seaborn as sns\n",
    "import sweetviz as sv\n",
    "import xgboost as xgb\n",
    "from sklearn import svm\n",
    "import category_encoders as ce\n",
    "import matplotlib.pyplot as plt\n",
    "from collections import Counter\n",
    "from sklearn import preprocessing\n",
    "from sklearn.cluster import KMeans\n",
    "from sklearn.decomposition import PCA\n",
    "from imblearn.over_sampling import SMOTE\n",
    "from sklearn.decomposition import FastICA\n",
    "from sklearn.naive_bayes import GaussianNB\n",
    "from pandas_profiling import ProfileReport\n",
    "from sklearn.metrics import confusion_matrix\n",
    "from sklearn.linear_model import SGDClassifier\n",
    "from sklearn.preprocessing import StandardScaler\n",
    "from feature_engine.encoding import OneHotEncoder\n",
    "from sklearn.neighbors import KNeighborsClassifier\n",
    "from sklearn.metrics import classification_report\n",
    "from sklearn.linear_model import LogisticRegression\n",
    "from sklearn.model_selection import train_test_split\n",
    "from sklearn.discriminant_analysis import LinearDiscriminantAnalysis as LDA"
   ]
  },
  {
   "cell_type": "code",
   "execution_count": 2,
   "id": "7b33a6ad",
   "metadata": {},
   "outputs": [],
   "source": [
    "pd.set_option('display.max_columns', None)\n",
    "pd.set_option('display.max_rows', None)"
   ]
  },
  {
   "cell_type": "code",
   "execution_count": 3,
   "id": "a5d1e7c3",
   "metadata": {},
   "outputs": [],
   "source": [
    "heart_dis_pred = pd.read_csv(\"heart_cleaned_encoded_smote.csv\")"
   ]
  },
  {
   "cell_type": "code",
   "execution_count": 4,
   "id": "e393bb66",
   "metadata": {},
   "outputs": [],
   "source": [
    "predictors = heart_dis_pred.drop(\"HeartDisease_No\",axis=1)\n",
    "target = heart_dis_pred[\"HeartDisease_No\"]\n",
    "\n",
    "X_train,X_test,Y_train,Y_test = train_test_split(predictors,target,test_size=0.20,random_state=0)"
   ]
  },
  {
   "cell_type": "markdown",
   "id": "41022d0e",
   "metadata": {},
   "source": [
    "# SVM with Scaling + SMOTE"
   ]
  },
  {
   "cell_type": "code",
   "execution_count": 5,
   "id": "67b4b59c",
   "metadata": {},
   "outputs": [
    {
     "name": "stdout",
     "output_type": "stream",
     "text": [
      "Wall time: 7h 31s\n"
     ]
    },
    {
     "data": {
      "text/plain": [
       "SVC(random_state=0)"
      ]
     },
     "execution_count": 5,
     "metadata": {},
     "output_type": "execute_result"
    }
   ],
   "source": [
    "%%time\n",
    "sv = svm.SVC(kernel = 'rbf', random_state = 0)\n",
    "sv.fit(X_train, Y_train)"
   ]
  },
  {
   "cell_type": "code",
   "execution_count": 6,
   "id": "ab2a164e",
   "metadata": {},
   "outputs": [],
   "source": [
    "Y_pred_svm = sv.predict(X_test)"
   ]
  },
  {
   "cell_type": "code",
   "execution_count": 7,
   "id": "a3297eb0",
   "metadata": {},
   "outputs": [],
   "source": [
    "pkl.dump(sv, open('model_svm.pkl', 'wb'))"
   ]
  },
  {
   "cell_type": "code",
   "execution_count": 8,
   "id": "51f7f1cb",
   "metadata": {},
   "outputs": [
    {
     "name": "stdout",
     "output_type": "stream",
     "text": [
      "True negatives:  42292 \n",
      "False positives:  4448 \n",
      "False negatives:  296 \n",
      "True Positives:  46540\n"
     ]
    }
   ],
   "source": [
    "yTest = Y_test.to_frame(name = \"HeartDisease_No\")\n",
    "tn, fp, fn, tp = confusion_matrix(yTest, Y_pred_svm).ravel()\n",
    "print('True negatives: ', tn, '\\nFalse positives: ', fp, '\\nFalse negatives: ', fn, '\\nTrue Positives: ', tp)"
   ]
  },
  {
   "cell_type": "code",
   "execution_count": 9,
   "id": "dea3072b",
   "metadata": {},
   "outputs": [
    {
     "name": "stdout",
     "output_type": "stream",
     "text": [
      "              precision    recall  f1-score   support\n",
      "\n",
      "           0       0.99      0.90      0.95     46740\n",
      "           1       0.91      0.99      0.95     46836\n",
      "\n",
      "    accuracy                           0.95     93576\n",
      "   macro avg       0.95      0.95      0.95     93576\n",
      "weighted avg       0.95      0.95      0.95     93576\n",
      "\n"
     ]
    }
   ],
   "source": [
    "print(classification_report(yTest, Y_pred_svm))"
   ]
  },
  {
   "cell_type": "code",
   "execution_count": 10,
   "id": "3cbd7d33",
   "metadata": {},
   "outputs": [
    {
     "data": {
      "image/png": "[encoded data removed]",
      "text/plain": [
       "<Figure size 432x288 with 2 Axes>"
      ]
     },
     "metadata": {
      "needs_background": "light"
     },
     "output_type": "display_data"
    }
   ],
   "source": [
    "from sklearn import metrics\n",
    "confusion_matrix = metrics.confusion_matrix(yTest['HeartDisease_No'], Y_pred_svm)\n",
    "cm_display = metrics.ConfusionMatrixDisplay(confusion_matrix = confusion_matrix, display_labels = [False, True])\n",
    "cm_display.plot()\n",
    "plt.show()"
   ]
  },
  {
   "cell_type": "code",
   "execution_count": 11,
   "id": "a4449d82",
   "metadata": {},
   "outputs": [
    {
     "name": "stderr",
     "output_type": "stream",
     "text": [
      "C:\\Users\\chemb\\anaconda3\\lib\\site-packages\\sklearn\\utils\\deprecation.py:87: FutureWarning: Function plot_roc_curve is deprecated; Function :func:`plot_roc_curve` is deprecated in 1.0 and will be removed in 1.2. Use one of the class methods: :meth:`sklearn.metric.RocCurveDisplay.from_predictions` or :meth:`sklearn.metric.RocCurveDisplay.from_estimator`.\n",
      "  warnings.warn(msg, category=FutureWarning)\n"
     ]
    },
    {
     "data": {
      "text/plain": [
       "<sklearn.metrics._plot.roc_curve.RocCurveDisplay at 0x22a81f15310>"
      ]
     },
     "execution_count": 11,
     "metadata": {},
     "output_type": "execute_result"
    },
    {
     "data": {
      "image/png": "[encoded data removed]",
      "text/plain": [
       "<Figure size 432x288 with 1 Axes>"
      ]
     },
     "metadata": {
      "needs_background": "light"
     },
     "output_type": "display_data"
    }
   ],
   "source": [
    "metrics.plot_roc_curve(sv, X_test, Y_test)"
   ]
  },
  {
   "cell_type": "markdown",
   "id": "c0220a28",
   "metadata": {},
   "source": [
    "# SVM with Scaling + SMOTE + PCA"
   ]
  },
  {
   "cell_type": "code",
   "execution_count": 3,
   "id": "58ed23df",
   "metadata": {},
   "outputs": [],
   "source": [
    "heart_dis_train_pred = pd.read_csv(\"heart_cleaned_encoded_trained_pca.csv\")\n",
    "heart_dis_test_pred = pd.read_csv(\"heart_cleaned_encoded_tested_pca.csv\")"
   ]
  },
  {
   "cell_type": "code",
   "execution_count": 4,
   "id": "4e36cd25",
   "metadata": {},
   "outputs": [
    {
     "name": "stdout",
     "output_type": "stream",
     "text": [
      "Wall time: 4h 31min 48s\n"
     ]
    },
    {
     "data": {
      "text/plain": [
       "SVC(random_state=0)"
      ]
     },
     "execution_count": 4,
     "metadata": {},
     "output_type": "execute_result"
    }
   ],
   "source": [
    "%%time\n",
    "features = ['principal component 1','principal component 2','principal component 3','principal component 4','principal component 5','principal component 6','principal component 7','principal component 8','principal component 9','principal component 10','principal component 11','principal component 12','principal component 13','principal component 14','principal component 15','principal component 16','principal component 17','principal component 18','principal component 19','principal component 20']\n",
    "sv = svm.SVC(kernel = 'rbf', random_state = 0)\n",
    "sv.fit(heart_dis_train_pred[features], heart_dis_train_pred[\"HeartDisease_No\"])"
   ]
  },
  {
   "cell_type": "code",
   "execution_count": 5,
   "id": "04aca97d",
   "metadata": {},
   "outputs": [],
   "source": [
    "Y_pred_svm = sv.predict(heart_dis_test_pred[features])"
   ]
  },
  {
   "cell_type": "code",
   "execution_count": 6,
   "id": "25cc8e3f",
   "metadata": {},
   "outputs": [],
   "source": [
    "pkl.dump(sv, open('model_svm_pca.pkl', 'wb'))"
   ]
  },
  {
   "cell_type": "code",
   "execution_count": 9,
   "id": "ec81c993",
   "metadata": {},
   "outputs": [
    {
     "name": "stdout",
     "output_type": "stream",
     "text": [
      "True negatives:  3726 \n",
      "False positives:  1749 \n",
      "False negatives:  12562 \n",
      "True Positives:  45922\n"
     ]
    }
   ],
   "source": [
    "tn, fp, fn, tp = confusion_matrix(heart_dis_test_pred[\"HeartDisease_No\"], Y_pred_svm).ravel()\n",
    "print('True negatives: ', tn, '\\nFalse positives: ', fp, '\\nFalse negatives: ', fn, '\\nTrue Positives: ', tp)"
   ]
  },
  {
   "cell_type": "code",
   "execution_count": 10,
   "id": "0e15011c",
   "metadata": {},
   "outputs": [
    {
     "name": "stdout",
     "output_type": "stream",
     "text": [
      "              precision    recall  f1-score   support\n",
      "\n",
      "           0       0.23      0.68      0.34      5475\n",
      "           1       0.96      0.79      0.87     58484\n",
      "\n",
      "    accuracy                           0.78     63959\n",
      "   macro avg       0.60      0.73      0.60     63959\n",
      "weighted avg       0.90      0.78      0.82     63959\n",
      "\n"
     ]
    }
   ],
   "source": [
    "print(classification_report(heart_dis_test_pred[\"HeartDisease_No\"], Y_pred_svm))"
   ]
  },
  {
   "cell_type": "code",
   "execution_count": 11,
   "id": "f56f4613",
   "metadata": {},
   "outputs": [
    {
     "data": {
      "image/png": "[encoded data removed]",
      "text/plain": [
       "<Figure size 432x288 with 2 Axes>"
      ]
     },
     "metadata": {
      "needs_background": "light"
     },
     "output_type": "display_data"
    }
   ],
   "source": [
    "from sklearn import metrics\n",
    "confusion_matrix = metrics.confusion_matrix(heart_dis_test_pred['HeartDisease_No'], Y_pred_svm)\n",
    "cm_display = metrics.ConfusionMatrixDisplay(confusion_matrix = confusion_matrix, display_labels = [False, True])\n",
    "cm_display.plot()\n",
    "plt.show()"
   ]
  },
  {
   "cell_type": "code",
   "execution_count": 12,
   "id": "0c4e5760",
   "metadata": {},
   "outputs": [
    {
     "name": "stderr",
     "output_type": "stream",
     "text": [
      "C:\\Users\\chemb\\anaconda3\\lib\\site-packages\\sklearn\\utils\\deprecation.py:87: FutureWarning: Function plot_roc_curve is deprecated; Function :func:`plot_roc_curve` is deprecated in 1.0 and will be removed in 1.2. Use one of the class methods: :meth:`sklearn.metric.RocCurveDisplay.from_predictions` or :meth:`sklearn.metric.RocCurveDisplay.from_estimator`.\n",
      "  warnings.warn(msg, category=FutureWarning)\n"
     ]
    },
    {
     "data": {
      "text/plain": [
       "<sklearn.metrics._plot.roc_curve.RocCurveDisplay at 0x1c05f6832b0>"
      ]
     },
     "execution_count": 12,
     "metadata": {},
     "output_type": "execute_result"
    },
    {
     "data": {
      "image/png": "[encoded data removed]",
      "text/plain": [
       "<Figure size 432x288 with 1 Axes>"
      ]
     },
     "metadata": {
      "needs_background": "light"
     },
     "output_type": "display_data"
    }
   ],
   "source": [
    "metrics.plot_roc_curve(sv, heart_dis_test_pred[features], heart_dis_test_pred[\"HeartDisease_No\"])"
   ]
  },
  {
   "cell_type": "markdown",
   "id": "c37e5871",
   "metadata": {},
   "source": [
    "# SVM with Scaling + SMOTE + ICA"
   ]
  },
  {
   "cell_type": "code",
   "execution_count": 13,
   "id": "96f050e2",
   "metadata": {},
   "outputs": [],
   "source": [
    "heart_dis_train_pred = pd.read_csv(\"heart_cleaned_encoded_trained_ica.csv\")\n",
    "heart_dis_test_pred = pd.read_csv(\"heart_cleaned_encoded_tested_ica.csv\")"
   ]
  },
  {
   "cell_type": "code",
   "execution_count": 14,
   "id": "722343ea",
   "metadata": {},
   "outputs": [
    {
     "name": "stdout",
     "output_type": "stream",
     "text": [
      "Wall time: 3h 24min 38s\n"
     ]
    },
    {
     "data": {
      "text/plain": [
       "SVC(random_state=0)"
      ]
     },
     "execution_count": 14,
     "metadata": {},
     "output_type": "execute_result"
    }
   ],
   "source": [
    "%%time\n",
    "features = ['independent component 1','independent component 2','independent component 3','independent component 4','independent component 5','independent component 6','independent component 7','independent component 8','independent component 9','independent component 10','independent component 11','independent component 12','independent component 13','independent component 14','independent component 15','independent component 16','independent component 17','independent component 18','independent component 19','independent component 20']\n",
    "sv = svm.SVC(kernel = 'rbf', random_state = 0)\n",
    "sv.fit(heart_dis_train_pred[features], heart_dis_train_pred[\"HeartDisease_No\"])"
   ]
  },
  {
   "cell_type": "code",
   "execution_count": 15,
   "id": "85154501",
   "metadata": {},
   "outputs": [],
   "source": [
    "Y_pred_svm = sv.predict(heart_dis_test_pred[features])"
   ]
  },
  {
   "cell_type": "code",
   "execution_count": 16,
   "id": "6a1d0994",
   "metadata": {},
   "outputs": [],
   "source": [
    "pkl.dump(sv, open('model_svm_ica.pkl', 'wb'))"
   ]
  },
  {
   "cell_type": "code",
   "execution_count": 17,
   "id": "eaa4b697",
   "metadata": {},
   "outputs": [
    {
     "name": "stdout",
     "output_type": "stream",
     "text": [
      "True negatives:  3605 \n",
      "False positives:  1870 \n",
      "False negatives:  12125 \n",
      "True Positives:  46359\n"
     ]
    }
   ],
   "source": [
    "tn, fp, fn, tp = metrics.confusion_matrix(heart_dis_test_pred[\"HeartDisease_No\"], Y_pred_svm).ravel()\n",
    "print('True negatives: ', tn, '\\nFalse positives: ', fp, '\\nFalse negatives: ', fn, '\\nTrue Positives: ', tp)"
   ]
  },
  {
   "cell_type": "code",
   "execution_count": 18,
   "id": "0f2451b4",
   "metadata": {},
   "outputs": [
    {
     "name": "stdout",
     "output_type": "stream",
     "text": [
      "              precision    recall  f1-score   support\n",
      "\n",
      "           0       0.23      0.66      0.34      5475\n",
      "           1       0.96      0.79      0.87     58484\n",
      "\n",
      "    accuracy                           0.78     63959\n",
      "   macro avg       0.60      0.73      0.60     63959\n",
      "weighted avg       0.90      0.78      0.82     63959\n",
      "\n"
     ]
    }
   ],
   "source": [
    "print(classification_report(heart_dis_test_pred[\"HeartDisease_No\"], Y_pred_svm))"
   ]
  },
  {
   "cell_type": "code",
   "execution_count": 19,
   "id": "7ef15a5a",
   "metadata": {},
   "outputs": [
    {
     "data": {
      "image/png": "[encoded data removed]",
      "text/plain": [
       "<Figure size 432x288 with 2 Axes>"
      ]
     },
     "metadata": {
      "needs_background": "light"
     },
     "output_type": "display_data"
    }
   ],
   "source": [
    "from sklearn import metrics\n",
    "confusion_matrix = metrics.confusion_matrix(heart_dis_test_pred['HeartDisease_No'], Y_pred_svm)\n",
    "cm_display = metrics.ConfusionMatrixDisplay(confusion_matrix = confusion_matrix, display_labels = [False, True])\n",
    "cm_display.plot()\n",
    "plt.show()"
   ]
  },
  {
   "cell_type": "code",
   "execution_count": 20,
   "id": "3f0c3c20",
   "metadata": {},
   "outputs": [
    {
     "name": "stderr",
     "output_type": "stream",
     "text": [
      "C:\\Users\\chemb\\anaconda3\\lib\\site-packages\\sklearn\\utils\\deprecation.py:87: FutureWarning: Function plot_roc_curve is deprecated; Function :func:`plot_roc_curve` is deprecated in 1.0 and will be removed in 1.2. Use one of the class methods: :meth:`sklearn.metric.RocCurveDisplay.from_predictions` or :meth:`sklearn.metric.RocCurveDisplay.from_estimator`.\n",
      "  warnings.warn(msg, category=FutureWarning)\n"
     ]
    },
    {
     "data": {
      "text/plain": [
       "<sklearn.metrics._plot.roc_curve.RocCurveDisplay at 0x1c002ca3b50>"
      ]
     },
     "execution_count": 20,
     "metadata": {},
     "output_type": "execute_result"
    },
    {
     "data": {
      "image/png": "[encoded data removed]",
      "text/plain": [
       "<Figure size 432x288 with 1 Axes>"
      ]
     },
     "metadata": {
      "needs_background": "light"
     },
     "output_type": "display_data"
    }
   ],
   "source": [
    "metrics.plot_roc_curve(sv, heart_dis_test_pred[features], heart_dis_test_pred[\"HeartDisease_No\"])"
   ]
  },
  {
   "cell_type": "markdown",
   "id": "a2c711a4",
   "metadata": {},
   "source": [
    "# SVM with Scaling + SMOTE + LDA"
   ]
  },
  {
   "cell_type": "code",
   "execution_count": 21,
   "id": "35fddb75",
   "metadata": {},
   "outputs": [],
   "source": [
    "heart_dis_train_pred = pd.read_csv(\"heart_cleaned_encoded_trained_lda.csv\")\n",
    "heart_dis_test_pred = pd.read_csv(\"heart_cleaned_encoded_tested_lda.csv\")"
   ]
  },
  {
   "cell_type": "code",
   "execution_count": 22,
   "id": "fd5684be",
   "metadata": {},
   "outputs": [
    {
     "name": "stdout",
     "output_type": "stream",
     "text": [
      "Wall time: 4h 52min 54s\n"
     ]
    },
    {
     "data": {
      "text/plain": [
       "SVC(random_state=0)"
      ]
     },
     "execution_count": 22,
     "metadata": {},
     "output_type": "execute_result"
    }
   ],
   "source": [
    "%%time\n",
    "features = ['lda 1']\n",
    "sv = svm.SVC(kernel = 'rbf', random_state = 0)\n",
    "sv.fit(heart_dis_train_pred[features], heart_dis_train_pred[\"HeartDisease_No\"])"
   ]
  },
  {
   "cell_type": "code",
   "execution_count": 23,
   "id": "144ca635",
   "metadata": {},
   "outputs": [],
   "source": [
    "Y_pred_svm = sv.predict(heart_dis_test_pred[features])"
   ]
  },
  {
   "cell_type": "code",
   "execution_count": 24,
   "id": "404fa393",
   "metadata": {},
   "outputs": [],
   "source": [
    "pkl.dump(sv, open('model_svm_lda.pkl', 'wb'))"
   ]
  },
  {
   "cell_type": "code",
   "execution_count": 25,
   "id": "e93bfdd8",
   "metadata": {},
   "outputs": [
    {
     "name": "stdout",
     "output_type": "stream",
     "text": [
      "True negatives:  4347 \n",
      "False positives:  1128 \n",
      "False negatives:  16242 \n",
      "True Positives:  42242\n"
     ]
    }
   ],
   "source": [
    "tn, fp, fn, tp = metrics.confusion_matrix(heart_dis_test_pred[\"HeartDisease_No\"], Y_pred_svm).ravel()\n",
    "print('True negatives: ', tn, '\\nFalse positives: ', fp, '\\nFalse negatives: ', fn, '\\nTrue Positives: ', tp)"
   ]
  },
  {
   "cell_type": "code",
   "execution_count": 26,
   "id": "787af55c",
   "metadata": {},
   "outputs": [
    {
     "name": "stdout",
     "output_type": "stream",
     "text": [
      "              precision    recall  f1-score   support\n",
      "\n",
      "           0       0.21      0.79      0.33      5475\n",
      "           1       0.97      0.72      0.83     58484\n",
      "\n",
      "    accuracy                           0.73     63959\n",
      "   macro avg       0.59      0.76      0.58     63959\n",
      "weighted avg       0.91      0.73      0.79     63959\n",
      "\n"
     ]
    }
   ],
   "source": [
    "print(classification_report(heart_dis_test_pred[\"HeartDisease_No\"], Y_pred_svm))"
   ]
  },
  {
   "cell_type": "code",
   "execution_count": 27,
   "id": "c035a93c",
   "metadata": {},
   "outputs": [
    {
     "data": {
      "image/png": "[encoded data removed]",
      "text/plain": [
       "<Figure size 432x288 with 2 Axes>"
      ]
     },
     "metadata": {
      "needs_background": "light"
     },
     "output_type": "display_data"
    }
   ],
   "source": [
    "from sklearn import metrics\n",
    "confusion_matrix = metrics.confusion_matrix(heart_dis_test_pred['HeartDisease_No'], Y_pred_svm)\n",
    "cm_display = metrics.ConfusionMatrixDisplay(confusion_matrix = confusion_matrix, display_labels = [False, True])\n",
    "cm_display.plot()\n",
    "plt.show()"
   ]
  },
  {
   "cell_type": "code",
   "execution_count": 28,
   "id": "ad7bd935",
   "metadata": {},
   "outputs": [
    {
     "name": "stderr",
     "output_type": "stream",
     "text": [
      "C:\\Users\\chemb\\anaconda3\\lib\\site-packages\\sklearn\\utils\\deprecation.py:87: FutureWarning: Function plot_roc_curve is deprecated; Function :func:`plot_roc_curve` is deprecated in 1.0 and will be removed in 1.2. Use one of the class methods: :meth:`sklearn.metric.RocCurveDisplay.from_predictions` or :meth:`sklearn.metric.RocCurveDisplay.from_estimator`.\n",
      "  warnings.warn(msg, category=FutureWarning)\n"
     ]
    },
    {
     "data": {
      "text/plain": [
       "<sklearn.metrics._plot.roc_curve.RocCurveDisplay at 0x1c002cf0df0>"
      ]
     },
     "execution_count": 28,
     "metadata": {},
     "output_type": "execute_result"
    },
    {
     "data": {
      "image/png": "[encoded data removed]",
      "text/plain": [
       "<Figure size 432x288 with 1 Axes>"
      ]
     },
     "metadata": {
      "needs_background": "light"
     },
     "output_type": "display_data"
    }
   ],
   "source": [
    "metrics.plot_roc_curve(sv, heart_dis_test_pred[features], heart_dis_test_pred[\"HeartDisease_No\"])"
   ]
  }
 ],
 "metadata": {
  "kernelspec": {
   "display_name": "Python 3 (ipykernel)",
   "language": "python",
   "name": "python3"
  },
  "language_info": {
   "codemirror_mode": {
    "name": "ipython",
    "version": 3
   },
   "file_extension": ".py",
   "mimetype": "text/x-python",
   "name": "python",
   "nbconvert_exporter": "python",
   "pygments_lexer": "ipython3",
   "version": "3.9.7"
  }
 },
 "nbformat": 4,
 "nbformat_minor": 5
}
