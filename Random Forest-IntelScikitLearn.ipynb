{
 "cells": [
  {
   "cell_type": "code",
   "execution_count": 1,
   "id": "7caec450",
   "metadata": {},
   "outputs": [],
   "source": [
    "import numpy as np\n",
    "import pandas as pd\n",
    "import pickle as pkl\n",
    "import seaborn as sns\n",
    "import sweetviz as sv\n",
    "import xgboost as xgb\n",
    "from sklearn import svm\n",
    "import category_encoders as ce\n",
    "import matplotlib.pyplot as plt\n",
    "from collections import Counter\n",
    "from sklearn import preprocessing\n",
    "from sklearn.cluster import KMeans\n",
    "from sklearn.decomposition import PCA\n",
    "from imblearn.over_sampling import SMOTE\n",
    "from sklearn.decomposition import FastICA\n",
    "from sklearn.naive_bayes import GaussianNB\n",
    "from sklearn.metrics import accuracy_score\n",
    "from pandas_profiling import ProfileReport\n",
    "from sklearn.metrics import confusion_matrix\n",
    "from sklearn.linear_model import SGDClassifier\n",
    "from sklearn.tree import DecisionTreeClassifier\n",
    "from sklearn.preprocessing import StandardScaler\n",
    "from feature_engine.encoding import OneHotEncoder\n",
    "from sklearn.neighbors import KNeighborsClassifier\n",
    "from sklearn.ensemble import RandomForestClassifier\n",
    "from sklearn.metrics import classification_report\n",
    "from sklearn.linear_model import LogisticRegression\n",
    "from sklearn.model_selection import train_test_split\n",
    "from sklearn.discriminant_analysis import LinearDiscriminantAnalysis as LDA"
   ]
  },
  {
   "cell_type": "code",
   "execution_count": 2,
   "id": "d8f0b282",
   "metadata": {},
   "outputs": [
    {
     "name": "stderr",
     "output_type": "stream",
     "text": [
      "Intel(R) Extension for Scikit-learn* enabled (https://github.com/intel/scikit-learn-intelex)\n"
     ]
    }
   ],
   "source": [
    "from sklearnex import patch_sklearn\n",
    "patch_sklearn()"
   ]
  },
  {
   "cell_type": "code",
   "execution_count": 3,
   "id": "7b33a6ad",
   "metadata": {},
   "outputs": [],
   "source": [
    "pd.set_option('display.max_columns', None)\n",
    "pd.set_option('display.max_rows', None)"
   ]
  },
  {
   "cell_type": "code",
   "execution_count": 4,
   "id": "a5d1e7c3",
   "metadata": {},
   "outputs": [],
   "source": [
    "heart_dis_pred = pd.read_csv(\"heart_cleaned_encoded_smote.csv\")"
   ]
  },
  {
   "cell_type": "code",
   "execution_count": 5,
   "id": "e393bb66",
   "metadata": {},
   "outputs": [],
   "source": [
    "predictors = heart_dis_pred.drop(\"HeartDisease_No\",axis=1)\n",
    "target = heart_dis_pred[\"HeartDisease_No\"]\n",
    "\n",
    "X_train,X_test,Y_train,Y_test = train_test_split(predictors,target,test_size=0.20,random_state=0)"
   ]
  },
  {
   "cell_type": "markdown",
   "id": "41022d0e",
   "metadata": {},
   "source": [
    "# Random Forest with Scaling + SMOTE"
   ]
  },
  {
   "cell_type": "code",
   "execution_count": 6,
   "id": "67b4b59c",
   "metadata": {},
   "outputs": [
    {
     "name": "stdout",
     "output_type": "stream",
     "text": [
      "Wall time: 27min 7s\n"
     ]
    },
    {
     "data": {
      "text/plain": [
       "RandomForestClassifier(random_state=6)"
      ]
     },
     "execution_count": 6,
     "metadata": {},
     "output_type": "execute_result"
    }
   ],
   "source": [
    "%%time\n",
    "\n",
    "max_accuracy = 0\n",
    "\n",
    "for x in range(20):\n",
    "    rf = RandomForestClassifier(random_state=x)\n",
    "    rf.fit(X_train,Y_train)\n",
    "    Y_pred_rf = rf.predict(X_test)\n",
    "    current_accuracy = round(accuracy_score(Y_pred_rf,Y_test)*100,2)\n",
    "    if(current_accuracy>max_accuracy):\n",
    "        max_accuracy = current_accuracy\n",
    "        best_x = x\n",
    "        \n",
    "#print(max_accuracy)\n",
    "#print(best_x)\n",
    "\n",
    "rf = RandomForestClassifier(random_state=best_x)\n",
    "rf.fit(X_train,Y_train)"
   ]
  },
  {
   "cell_type": "code",
   "execution_count": 7,
   "id": "3adf7523",
   "metadata": {},
   "outputs": [],
   "source": [
    "Y_pred_rf = rf.predict(X_test)"
   ]
  },
  {
   "cell_type": "code",
   "execution_count": 8,
   "id": "09dcb17a",
   "metadata": {},
   "outputs": [],
   "source": [
    "pkl.dump(rf, open('model_rf.pkl', 'wb'))"
   ]
  },
  {
   "cell_type": "code",
   "execution_count": 9,
   "id": "51f7f1cb",
   "metadata": {},
   "outputs": [
    {
     "name": "stdout",
     "output_type": "stream",
     "text": [
      "True negatives:  42683 \n",
      "False positives:  4057 \n",
      "False negatives:  476 \n",
      "True Positives:  46360\n"
     ]
    }
   ],
   "source": [
    "yTest = Y_test.to_frame(name = \"HeartDisease_No\")\n",
    "tn, fp, fn, tp = confusion_matrix(yTest, Y_pred_rf).ravel()\n",
    "print('True negatives: ', tn, '\\nFalse positives: ', fp, '\\nFalse negatives: ', fn, '\\nTrue Positives: ', tp)"
   ]
  },
  {
   "cell_type": "code",
   "execution_count": 10,
   "id": "dea3072b",
   "metadata": {},
   "outputs": [
    {
     "name": "stdout",
     "output_type": "stream",
     "text": [
      "              precision    recall  f1-score   support\n",
      "\n",
      "           0       0.99      0.91      0.95     46740\n",
      "           1       0.92      0.99      0.95     46836\n",
      "\n",
      "    accuracy                           0.95     93576\n",
      "   macro avg       0.95      0.95      0.95     93576\n",
      "weighted avg       0.95      0.95      0.95     93576\n",
      "\n"
     ]
    }
   ],
   "source": [
    "print(classification_report(yTest, Y_pred_rf))"
   ]
  },
  {
   "cell_type": "code",
   "execution_count": 11,
   "id": "0bcc430b",
   "metadata": {},
   "outputs": [
    {
     "data": {
      "image/png": "[encoded data removed]",
      "text/plain": [
       "<Figure size 432x288 with 2 Axes>"
      ]
     },
     "metadata": {
      "needs_background": "light"
     },
     "output_type": "display_data"
    }
   ],
   "source": [
    "from sklearn import metrics\n",
    "confusion_matrix = metrics.confusion_matrix(yTest['HeartDisease_No'], Y_pred_rf)\n",
    "cm_display = metrics.ConfusionMatrixDisplay(confusion_matrix = confusion_matrix, display_labels = [False, True])\n",
    "cm_display.plot()\n",
    "plt.show()"
   ]
  },
  {
   "cell_type": "code",
   "execution_count": 12,
   "id": "6019d599",
   "metadata": {},
   "outputs": [
    {
     "name": "stderr",
     "output_type": "stream",
     "text": [
      "C:\\Users\\chemb\\anaconda3\\lib\\site-packages\\sklearn\\utils\\deprecation.py:87: FutureWarning: Function plot_roc_curve is deprecated; Function :func:`plot_roc_curve` is deprecated in 1.0 and will be removed in 1.2. Use one of the class methods: :meth:`sklearn.metric.RocCurveDisplay.from_predictions` or :meth:`sklearn.metric.RocCurveDisplay.from_estimator`.\n",
      "  warnings.warn(msg, category=FutureWarning)\n"
     ]
    },
    {
     "data": {
      "text/plain": [
       "<sklearn.metrics._plot.roc_curve.RocCurveDisplay at 0x261041ade50>"
      ]
     },
     "execution_count": 12,
     "metadata": {},
     "output_type": "execute_result"
    },
    {
     "data": {
      "image/png": "[encoded data removed]",
      "text/plain": [
       "<Figure size 432x288 with 1 Axes>"
      ]
     },
     "metadata": {
      "needs_background": "light"
     },
     "output_type": "display_data"
    }
   ],
   "source": [
    "metrics.plot_roc_curve(rf, X_test, Y_test)"
   ]
  },
  {
   "cell_type": "markdown",
   "id": "c0220a28",
   "metadata": {},
   "source": [
    "# Random Forest with Scaling + SMOTE + PCA"
   ]
  },
  {
   "cell_type": "code",
   "execution_count": 13,
   "id": "58ed23df",
   "metadata": {},
   "outputs": [],
   "source": [
    "heart_dis_train_pred = pd.read_csv(\"heart_cleaned_encoded_trained_pca.csv\")\n",
    "heart_dis_test_pred = pd.read_csv(\"heart_cleaned_encoded_tested_pca.csv\")"
   ]
  },
  {
   "cell_type": "code",
   "execution_count": 14,
   "id": "4e36cd25",
   "metadata": {},
   "outputs": [
    {
     "name": "stdout",
     "output_type": "stream",
     "text": [
      "Wall time: 2h 58min 29s\n"
     ]
    },
    {
     "data": {
      "text/plain": [
       "RandomForestClassifier(random_state=5)"
      ]
     },
     "execution_count": 14,
     "metadata": {},
     "output_type": "execute_result"
    }
   ],
   "source": [
    "%%time\n",
    "features = ['principal component 1','principal component 2','principal component 3','principal component 4','principal component 5','principal component 6','principal component 7','principal component 8','principal component 9','principal component 10','principal component 11','principal component 12','principal component 13','principal component 14','principal component 15','principal component 16','principal component 17','principal component 18','principal component 19','principal component 20']\n",
    "\n",
    "max_accuracy = 0\n",
    "\n",
    "for x in range(20):\n",
    "    rf = RandomForestClassifier(random_state=x)\n",
    "    rf.fit(heart_dis_train_pred[features],heart_dis_train_pred[\"HeartDisease_No\"])\n",
    "    Y_pred_rf = rf.predict(heart_dis_test_pred[features])\n",
    "    current_accuracy = round(accuracy_score(Y_pred_rf,heart_dis_test_pred[\"HeartDisease_No\"])*100,2)\n",
    "    if(current_accuracy>max_accuracy):\n",
    "        max_accuracy = current_accuracy\n",
    "        best_x = x\n",
    "        \n",
    "#print(max_accuracy)\n",
    "#print(best_x)\n",
    "\n",
    "rf = RandomForestClassifier(random_state=best_x)\n",
    "rf.fit(heart_dis_train_pred[features],heart_dis_train_pred[\"HeartDisease_No\"])"
   ]
  },
  {
   "cell_type": "code",
   "execution_count": 15,
   "id": "193c050b",
   "metadata": {},
   "outputs": [],
   "source": [
    "Y_pred_rf = rf.predict(heart_dis_test_pred[features])"
   ]
  },
  {
   "cell_type": "code",
   "execution_count": 16,
   "id": "15a0263a",
   "metadata": {},
   "outputs": [],
   "source": [
    "pkl.dump(rf, open('model_rf_pca.pkl', 'wb'))"
   ]
  },
  {
   "cell_type": "code",
   "execution_count": 17,
   "id": "ec81c993",
   "metadata": {},
   "outputs": [
    {
     "name": "stdout",
     "output_type": "stream",
     "text": [
      "True negatives:  2453 \n",
      "False positives:  3022 \n",
      "False negatives:  7010 \n",
      "True Positives:  51474\n"
     ]
    }
   ],
   "source": [
    "tn, fp, fn, tp = metrics.confusion_matrix(heart_dis_test_pred[\"HeartDisease_No\"], Y_pred_rf).ravel()\n",
    "print('True negatives: ', tn, '\\nFalse positives: ', fp, '\\nFalse negatives: ', fn, '\\nTrue Positives: ', tp)"
   ]
  },
  {
   "cell_type": "code",
   "execution_count": 18,
   "id": "0e15011c",
   "metadata": {},
   "outputs": [
    {
     "name": "stdout",
     "output_type": "stream",
     "text": [
      "              precision    recall  f1-score   support\n",
      "\n",
      "           0       0.26      0.45      0.33      5475\n",
      "           1       0.94      0.88      0.91     58484\n",
      "\n",
      "    accuracy                           0.84     63959\n",
      "   macro avg       0.60      0.66      0.62     63959\n",
      "weighted avg       0.89      0.84      0.86     63959\n",
      "\n"
     ]
    }
   ],
   "source": [
    "print(classification_report(heart_dis_test_pred[\"HeartDisease_No\"], Y_pred_rf))"
   ]
  },
  {
   "cell_type": "code",
   "execution_count": 19,
   "id": "eac6aeae",
   "metadata": {},
   "outputs": [
    {
     "data": {
      "image/png": "[encoded data removed]",
      "text/plain": [
       "<Figure size 432x288 with 2 Axes>"
      ]
     },
     "metadata": {
      "needs_background": "light"
     },
     "output_type": "display_data"
    }
   ],
   "source": [
    "from sklearn import metrics\n",
    "confusion_matrix = metrics.confusion_matrix(heart_dis_test_pred['HeartDisease_No'], Y_pred_rf)\n",
    "cm_display = metrics.ConfusionMatrixDisplay(confusion_matrix = confusion_matrix, display_labels = [False, True])\n",
    "cm_display.plot()\n",
    "plt.show()"
   ]
  },
  {
   "cell_type": "code",
   "execution_count": 20,
   "id": "778930ac",
   "metadata": {},
   "outputs": [
    {
     "name": "stderr",
     "output_type": "stream",
     "text": [
      "C:\\Users\\chemb\\anaconda3\\lib\\site-packages\\sklearn\\utils\\deprecation.py:87: FutureWarning: Function plot_roc_curve is deprecated; Function :func:`plot_roc_curve` is deprecated in 1.0 and will be removed in 1.2. Use one of the class methods: :meth:`sklearn.metric.RocCurveDisplay.from_predictions` or :meth:`sklearn.metric.RocCurveDisplay.from_estimator`.\n",
      "  warnings.warn(msg, category=FutureWarning)\n"
     ]
    },
    {
     "data": {
      "text/plain": [
       "<sklearn.metrics._plot.roc_curve.RocCurveDisplay at 0x261070ecb20>"
      ]
     },
     "execution_count": 20,
     "metadata": {},
     "output_type": "execute_result"
    },
    {
     "data": {
      "image/png": "[encoded data removed]",
      "text/plain": [
       "<Figure size 432x288 with 1 Axes>"
      ]
     },
     "metadata": {
      "needs_background": "light"
     },
     "output_type": "display_data"
    }
   ],
   "source": [
    "metrics.plot_roc_curve(rf, heart_dis_test_pred[features], heart_dis_test_pred[\"HeartDisease_No\"])"
   ]
  },
  {
   "cell_type": "markdown",
   "id": "c37e5871",
   "metadata": {},
   "source": [
    "# Random Forest with Scaling + SMOTE + ICA"
   ]
  },
  {
   "cell_type": "code",
   "execution_count": 21,
   "id": "96f050e2",
   "metadata": {},
   "outputs": [],
   "source": [
    "heart_dis_train_pred = pd.read_csv(\"heart_cleaned_encoded_trained_ica.csv\")\n",
    "heart_dis_test_pred = pd.read_csv(\"heart_cleaned_encoded_tested_ica.csv\")"
   ]
  },
  {
   "cell_type": "code",
   "execution_count": 22,
   "id": "722343ea",
   "metadata": {},
   "outputs": [
    {
     "name": "stdout",
     "output_type": "stream",
     "text": [
      "Wall time: 2h 28min 34s\n"
     ]
    },
    {
     "data": {
      "text/plain": [
       "RandomForestClassifier(random_state=2)"
      ]
     },
     "execution_count": 22,
     "metadata": {},
     "output_type": "execute_result"
    }
   ],
   "source": [
    "%%time\n",
    "\n",
    "features = ['independent component 1','independent component 2','independent component 3','independent component 4','independent component 5','independent component 6','independent component 7','independent component 8','independent component 9','independent component 10','independent component 11','independent component 12','independent component 13','independent component 14','independent component 15','independent component 16','independent component 17','independent component 18','independent component 19','independent component 20']\n",
    "max_accuracy = 0\n",
    "\n",
    "for x in range(20):\n",
    "    rf = RandomForestClassifier(random_state=x)\n",
    "    rf.fit(heart_dis_train_pred[features],heart_dis_train_pred[\"HeartDisease_No\"])\n",
    "    Y_pred_rf = rf.predict(heart_dis_test_pred[features])\n",
    "    current_accuracy = round(accuracy_score(Y_pred_rf,heart_dis_test_pred[\"HeartDisease_No\"])*100,2)\n",
    "    if(current_accuracy>max_accuracy):\n",
    "        max_accuracy = current_accuracy\n",
    "        best_x = x\n",
    "        \n",
    "#print(max_accuracy)\n",
    "#print(best_x)\n",
    "\n",
    "rf = RandomForestClassifier(random_state=best_x)\n",
    "rf.fit(heart_dis_train_pred[features],heart_dis_train_pred[\"HeartDisease_No\"])"
   ]
  },
  {
   "cell_type": "code",
   "execution_count": 23,
   "id": "a0a9e3fe",
   "metadata": {},
   "outputs": [],
   "source": [
    "Y_pred_rf = rf.predict(heart_dis_test_pred[features])"
   ]
  },
  {
   "cell_type": "code",
   "execution_count": 24,
   "id": "0edf28cd",
   "metadata": {},
   "outputs": [],
   "source": [
    "pkl.dump(rf, open('model_rf_ica.pkl', 'wb'))"
   ]
  },
  {
   "cell_type": "code",
   "execution_count": 25,
   "id": "eaa4b697",
   "metadata": {},
   "outputs": [
    {
     "name": "stdout",
     "output_type": "stream",
     "text": [
      "True negatives:  2222 \n",
      "False positives:  3253 \n",
      "False negatives:  6349 \n",
      "True Positives:  52135\n"
     ]
    }
   ],
   "source": [
    "tn, fp, fn, tp = metrics.confusion_matrix(heart_dis_test_pred[\"HeartDisease_No\"], Y_pred_rf).ravel()\n",
    "print('True negatives: ', tn, '\\nFalse positives: ', fp, '\\nFalse negatives: ', fn, '\\nTrue Positives: ', tp)"
   ]
  },
  {
   "cell_type": "code",
   "execution_count": 26,
   "id": "0f2451b4",
   "metadata": {},
   "outputs": [
    {
     "name": "stdout",
     "output_type": "stream",
     "text": [
      "              precision    recall  f1-score   support\n",
      "\n",
      "           0       0.26      0.41      0.32      5475\n",
      "           1       0.94      0.89      0.92     58484\n",
      "\n",
      "    accuracy                           0.85     63959\n",
      "   macro avg       0.60      0.65      0.62     63959\n",
      "weighted avg       0.88      0.85      0.86     63959\n",
      "\n"
     ]
    }
   ],
   "source": [
    "print(classification_report(heart_dis_test_pred[\"HeartDisease_No\"], Y_pred_rf))"
   ]
  },
  {
   "cell_type": "code",
   "execution_count": 27,
   "id": "79918476",
   "metadata": {},
   "outputs": [
    {
     "data": {
      "image/png": "[encoded data removed]",
      "text/plain": [
       "<Figure size 432x288 with 2 Axes>"
      ]
     },
     "metadata": {
      "needs_background": "light"
     },
     "output_type": "display_data"
    }
   ],
   "source": [
    "from sklearn import metrics\n",
    "confusion_matrix = metrics.confusion_matrix(heart_dis_test_pred['HeartDisease_No'], Y_pred_rf)\n",
    "cm_display = metrics.ConfusionMatrixDisplay(confusion_matrix = confusion_matrix, display_labels = [False, True])\n",
    "cm_display.plot()\n",
    "plt.show()"
   ]
  },
  {
   "cell_type": "code",
   "execution_count": 28,
   "id": "74fa56e5",
   "metadata": {},
   "outputs": [
    {
     "name": "stderr",
     "output_type": "stream",
     "text": [
      "C:\\Users\\chemb\\anaconda3\\lib\\site-packages\\sklearn\\utils\\deprecation.py:87: FutureWarning: Function plot_roc_curve is deprecated; Function :func:`plot_roc_curve` is deprecated in 1.0 and will be removed in 1.2. Use one of the class methods: :meth:`sklearn.metric.RocCurveDisplay.from_predictions` or :meth:`sklearn.metric.RocCurveDisplay.from_estimator`.\n",
      "  warnings.warn(msg, category=FutureWarning)\n"
     ]
    },
    {
     "data": {
      "text/plain": [
       "<sklearn.metrics._plot.roc_curve.RocCurveDisplay at 0x2617b60ce50>"
      ]
     },
     "execution_count": 28,
     "metadata": {},
     "output_type": "execute_result"
    },
    {
     "data": {
      "image/png": "[encoded data removed]",
      "text/plain": [
       "<Figure size 432x288 with 1 Axes>"
      ]
     },
     "metadata": {
      "needs_background": "light"
     },
     "output_type": "display_data"
    }
   ],
   "source": [
    "metrics.plot_roc_curve(rf, heart_dis_test_pred[features], heart_dis_test_pred[\"HeartDisease_No\"])"
   ]
  },
  {
   "cell_type": "markdown",
   "id": "a2c711a4",
   "metadata": {},
   "source": [
    "# Random Forest with Scaling + SMOTE + LDA"
   ]
  },
  {
   "cell_type": "code",
   "execution_count": 29,
   "id": "a19ccaa0",
   "metadata": {},
   "outputs": [],
   "source": [
    "heart_dis_train_pred = pd.read_csv(\"heart_cleaned_encoded_trained_lda.csv\")\n",
    "heart_dis_test_pred = pd.read_csv(\"heart_cleaned_encoded_tested_lda.csv\")"
   ]
  },
  {
   "cell_type": "code",
   "execution_count": 30,
   "id": "f8105b82",
   "metadata": {},
   "outputs": [
    {
     "name": "stdout",
     "output_type": "stream",
     "text": [
      "Wall time: 1h 12min 37s\n"
     ]
    },
    {
     "data": {
      "text/plain": [
       "RandomForestClassifier(random_state=16)"
      ]
     },
     "execution_count": 30,
     "metadata": {},
     "output_type": "execute_result"
    }
   ],
   "source": [
    "%%time\n",
    "\n",
    "features = ['lda 1']\n",
    "\n",
    "max_accuracy = 0\n",
    "\n",
    "for x in range(20):\n",
    "    rf = RandomForestClassifier(random_state=x)\n",
    "    rf.fit(heart_dis_train_pred[features],heart_dis_train_pred[\"HeartDisease_No\"])\n",
    "    Y_pred_rf = rf.predict(heart_dis_test_pred[features])\n",
    "    current_accuracy = round(accuracy_score(Y_pred_rf,heart_dis_test_pred[\"HeartDisease_No\"])*100,2)\n",
    "    if(current_accuracy>max_accuracy):\n",
    "        max_accuracy = current_accuracy\n",
    "        best_x = x\n",
    "        \n",
    "#print(max_accuracy)\n",
    "#print(best_x)\n",
    "\n",
    "rf = RandomForestClassifier(random_state=best_x)\n",
    "rf.fit(heart_dis_train_pred[features],heart_dis_train_pred[\"HeartDisease_No\"])"
   ]
  },
  {
   "cell_type": "code",
   "execution_count": 31,
   "id": "46336334",
   "metadata": {},
   "outputs": [],
   "source": [
    "Y_pred_rf = rf.predict(heart_dis_test_pred[features])"
   ]
  },
  {
   "cell_type": "code",
   "execution_count": 32,
   "id": "74d0ba26",
   "metadata": {},
   "outputs": [],
   "source": [
    "pkl.dump(rf, open('model_rf_lda.pkl', 'wb'))"
   ]
  },
  {
   "cell_type": "code",
   "execution_count": 33,
   "id": "eec5f419",
   "metadata": {},
   "outputs": [
    {
     "name": "stdout",
     "output_type": "stream",
     "text": [
      "True negatives:  3634 \n",
      "False positives:  1841 \n",
      "False negatives:  18391 \n",
      "True Positives:  40093\n"
     ]
    }
   ],
   "source": [
    "tn, fp, fn, tp = metrics.confusion_matrix(heart_dis_test_pred[\"HeartDisease_No\"], Y_pred_rf).ravel()\n",
    "print('True negatives: ', tn, '\\nFalse positives: ', fp, '\\nFalse negatives: ', fn, '\\nTrue Positives: ', tp)"
   ]
  },
  {
   "cell_type": "code",
   "execution_count": 34,
   "id": "59aff79f",
   "metadata": {},
   "outputs": [
    {
     "name": "stdout",
     "output_type": "stream",
     "text": [
      "              precision    recall  f1-score   support\n",
      "\n",
      "           0       0.16      0.66      0.26      5475\n",
      "           1       0.96      0.69      0.80     58484\n",
      "\n",
      "    accuracy                           0.68     63959\n",
      "   macro avg       0.56      0.67      0.53     63959\n",
      "weighted avg       0.89      0.68      0.75     63959\n",
      "\n"
     ]
    }
   ],
   "source": [
    "print(classification_report(heart_dis_test_pred[\"HeartDisease_No\"], Y_pred_rf))"
   ]
  },
  {
   "cell_type": "code",
   "execution_count": 35,
   "id": "4875c0e8",
   "metadata": {},
   "outputs": [
    {
     "data": {
      "image/png": "[encoded data removed]",
      "text/plain": [
       "<Figure size 432x288 with 2 Axes>"
      ]
     },
     "metadata": {
      "needs_background": "light"
     },
     "output_type": "display_data"
    }
   ],
   "source": [
    "from sklearn import metrics\n",
    "confusion_matrix = metrics.confusion_matrix(heart_dis_test_pred['HeartDisease_No'], Y_pred_rf)\n",
    "cm_display = metrics.ConfusionMatrixDisplay(confusion_matrix = confusion_matrix, display_labels = [False, True])\n",
    "cm_display.plot()\n",
    "plt.show()"
   ]
  },
  {
   "cell_type": "code",
   "execution_count": 36,
   "id": "5b442342",
   "metadata": {},
   "outputs": [
    {
     "name": "stderr",
     "output_type": "stream",
     "text": [
      "C:\\Users\\chemb\\anaconda3\\lib\\site-packages\\sklearn\\utils\\deprecation.py:87: FutureWarning: Function plot_roc_curve is deprecated; Function :func:`plot_roc_curve` is deprecated in 1.0 and will be removed in 1.2. Use one of the class methods: :meth:`sklearn.metric.RocCurveDisplay.from_predictions` or :meth:`sklearn.metric.RocCurveDisplay.from_estimator`.\n",
      "  warnings.warn(msg, category=FutureWarning)\n"
     ]
    },
    {
     "data": {
      "text/plain": [
       "<sklearn.metrics._plot.roc_curve.RocCurveDisplay at 0x2610713a580>"
      ]
     },
     "execution_count": 36,
     "metadata": {},
     "output_type": "execute_result"
    },
    {
     "data": {
      "image/png": "[encoded data removed]",
      "text/plain": [
       "<Figure size 432x288 with 1 Axes>"
      ]
     },
     "metadata": {
      "needs_background": "light"
     },
     "output_type": "display_data"
    }
   ],
   "source": [
    "metrics.plot_roc_curve(rf, heart_dis_test_pred[features], heart_dis_test_pred[\"HeartDisease_No\"])"
   ]
  }
 ],
 "metadata": {
  "kernelspec": {
   "display_name": "Python 3 (ipykernel)",
   "language": "python",
   "name": "python3"
  },
  "language_info": {
   "codemirror_mode": {
    "name": "ipython",
    "version": 3
   },
   "file_extension": ".py",
   "mimetype": "text/x-python",
   "name": "python",
   "nbconvert_exporter": "python",
   "pygments_lexer": "ipython3",
   "version": "3.9.7"
  }
 },
 "nbformat": 4,
 "nbformat_minor": 5
}
