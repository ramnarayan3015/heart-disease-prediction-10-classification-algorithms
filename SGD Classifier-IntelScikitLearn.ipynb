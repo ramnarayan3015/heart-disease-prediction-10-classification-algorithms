{
 "cells": [
  {
   "cell_type": "code",
   "execution_count": 1,
   "id": "7caec450",
   "metadata": {},
   "outputs": [],
   "source": [
    "import numpy as np\n",
    "import pandas as pd\n",
    "import pickle as pkl\n",
    "import seaborn as sns\n",
    "import sweetviz as sv\n",
    "import xgboost as xgb\n",
    "import category_encoders as ce\n",
    "import matplotlib.pyplot as plt\n",
    "from collections import Counter\n",
    "from sklearn import preprocessing\n",
    "from sklearn.decomposition import PCA\n",
    "from imblearn.over_sampling import SMOTE\n",
    "from sklearn.decomposition import FastICA\n",
    "from sklearn.naive_bayes import GaussianNB\n",
    "from pandas_profiling import ProfileReport\n",
    "from sklearn.metrics import confusion_matrix\n",
    "from sklearn.linear_model import SGDClassifier\n",
    "from sklearn.preprocessing import StandardScaler\n",
    "from feature_engine.encoding import OneHotEncoder\n",
    "from sklearn.neighbors import KNeighborsClassifier\n",
    "from sklearn.metrics import classification_report\n",
    "from sklearn.linear_model import LogisticRegression\n",
    "from sklearn.model_selection import train_test_split\n",
    "from sklearn.discriminant_analysis import LinearDiscriminantAnalysis as LDA"
   ]
  },
  {
   "cell_type": "code",
   "execution_count": 2,
   "id": "a4d87568",
   "metadata": {},
   "outputs": [
    {
     "name": "stderr",
     "output_type": "stream",
     "text": [
      "Intel(R) Extension for Scikit-learn* enabled (https://github.com/intel/scikit-learn-intelex)\n"
     ]
    }
   ],
   "source": [
    "from sklearnex import patch_sklearn\n",
    "patch_sklearn()"
   ]
  },
  {
   "cell_type": "code",
   "execution_count": 3,
   "id": "7b33a6ad",
   "metadata": {},
   "outputs": [],
   "source": [
    "pd.set_option('display.max_columns', None)\n",
    "pd.set_option('display.max_rows', None)"
   ]
  },
  {
   "cell_type": "code",
   "execution_count": 4,
   "id": "a5d1e7c3",
   "metadata": {},
   "outputs": [],
   "source": [
    "heart_dis_pred = pd.read_csv(\"heart_cleaned_encoded_smote.csv\")"
   ]
  },
  {
   "cell_type": "code",
   "execution_count": 5,
   "id": "e393bb66",
   "metadata": {},
   "outputs": [],
   "source": [
    "predictors = heart_dis_pred.drop(\"HeartDisease_No\",axis=1)\n",
    "target = heart_dis_pred[\"HeartDisease_No\"]\n",
    "\n",
    "X_train,X_test,Y_train,Y_test = train_test_split(predictors,target,test_size=0.20,random_state=0)"
   ]
  },
  {
   "cell_type": "markdown",
   "id": "41022d0e",
   "metadata": {},
   "source": [
    "# SGD with Scaling + SMOTE"
   ]
  },
  {
   "cell_type": "code",
   "execution_count": 6,
   "id": "67b4b59c",
   "metadata": {},
   "outputs": [
    {
     "name": "stdout",
     "output_type": "stream",
     "text": [
      "Wall time: 2min 8s\n"
     ]
    },
    {
     "data": {
      "text/plain": [
       "SGDClassifier(tol=0.0001)"
      ]
     },
     "execution_count": 6,
     "metadata": {},
     "output_type": "execute_result"
    }
   ],
   "source": [
    "%%time\n",
    "sgd = SGDClassifier(max_iter=1000, tol=1e-4)\n",
    "sgd.fit(X_train,Y_train)"
   ]
  },
  {
   "cell_type": "code",
   "execution_count": 7,
   "id": "67881eb0",
   "metadata": {},
   "outputs": [],
   "source": [
    "y_pred_sgd = sgd.predict(X_test)"
   ]
  },
  {
   "cell_type": "code",
   "execution_count": 8,
   "id": "09dcb17a",
   "metadata": {},
   "outputs": [],
   "source": [
    "pkl.dump(sgd, open('model_sgd.pkl', 'wb'))"
   ]
  },
  {
   "cell_type": "code",
   "execution_count": 9,
   "id": "51f7f1cb",
   "metadata": {},
   "outputs": [
    {
     "name": "stdout",
     "output_type": "stream",
     "text": [
      "True negatives:  46612 \n",
      "False positives:  118 \n",
      "False negatives:  45337 \n",
      "True Positives:  1509\n"
     ]
    }
   ],
   "source": [
    "yTest = Y_test.to_frame(name = \"HeartDisease_No\")\n",
    "tn, fp, fn, tp = confusion_matrix(yTest, y_pred_sgd).ravel()\n",
    "print('True negatives: ', tn, '\\nFalse positives: ', fp, '\\nFalse negatives: ', fn, '\\nTrue Positives: ', tp)"
   ]
  },
  {
   "cell_type": "code",
   "execution_count": 10,
   "id": "dea3072b",
   "metadata": {},
   "outputs": [
    {
     "name": "stdout",
     "output_type": "stream",
     "text": [
      "              precision    recall  f1-score   support\n",
      "\n",
      "           0       0.51      1.00      0.67     46730\n",
      "           1       0.93      0.03      0.06     46846\n",
      "\n",
      "    accuracy                           0.51     93576\n",
      "   macro avg       0.72      0.51      0.37     93576\n",
      "weighted avg       0.72      0.51      0.37     93576\n",
      "\n"
     ]
    }
   ],
   "source": [
    "print(classification_report(yTest, y_pred_sgd))"
   ]
  },
  {
   "cell_type": "code",
   "execution_count": 11,
   "id": "8bcfa00c",
   "metadata": {},
   "outputs": [
    {
     "data": {
      "image/png": "[encoded data removed]",
      "text/plain": [
       "<Figure size 432x288 with 2 Axes>"
      ]
     },
     "metadata": {
      "needs_background": "light"
     },
     "output_type": "display_data"
    }
   ],
   "source": [
    "from sklearn import metrics\n",
    "confusion_matrix = metrics.confusion_matrix(yTest['HeartDisease_No'], y_pred_sgd)\n",
    "cm_display = metrics.ConfusionMatrixDisplay(confusion_matrix = confusion_matrix, display_labels = [False, True])\n",
    "cm_display.plot()\n",
    "plt.show()"
   ]
  },
  {
   "cell_type": "code",
   "execution_count": 12,
   "id": "b747090f",
   "metadata": {},
   "outputs": [],
   "source": [
    "test = pd.concat([X_test, Y_test], axis=1)"
   ]
  },
  {
   "cell_type": "code",
   "execution_count": 14,
   "id": "1888818b",
   "metadata": {},
   "outputs": [
    {
     "name": "stderr",
     "output_type": "stream",
     "text": [
      "C:\\Users\\chemb\\anaconda3\\lib\\site-packages\\sklearn\\utils\\deprecation.py:87: FutureWarning:\n",
      "\n",
      "Function plot_roc_curve is deprecated; Function :func:`plot_roc_curve` is deprecated in 1.0 and will be removed in 1.2. Use one of the class methods: :meth:`sklearn.metric.RocCurveDisplay.from_predictions` or :meth:`sklearn.metric.RocCurveDisplay.from_estimator`.\n",
      "\n"
     ]
    },
    {
     "data": {
      "text/plain": [
       "<sklearn.metrics._plot.roc_curve.RocCurveDisplay at 0x1bf03f13190>"
      ]
     },
     "execution_count": 14,
     "metadata": {},
     "output_type": "execute_result"
    },
    {
     "data": {
      "image/png": "[encoded data removed]",
      "text/plain": [
       "<Figure size 432x288 with 1 Axes>"
      ]
     },
     "metadata": {
      "needs_background": "light"
     },
     "output_type": "display_data"
    }
   ],
   "source": [
    "metrics.plot_roc_curve(sgd, X_test, Y_test)"
   ]
  },
  {
   "cell_type": "markdown",
   "id": "c0220a28",
   "metadata": {},
   "source": [
    "# SGD with Scaling + SMOTE + PCA"
   ]
  },
  {
   "cell_type": "code",
   "execution_count": 15,
   "id": "58ed23df",
   "metadata": {},
   "outputs": [],
   "source": [
    "heart_dis_train_pred = pd.read_csv(\"heart_cleaned_encoded_trained_pca.csv\")\n",
    "heart_dis_test_pred = pd.read_csv(\"heart_cleaned_encoded_tested_pca.csv\")"
   ]
  },
  {
   "cell_type": "code",
   "execution_count": 16,
   "id": "4e36cd25",
   "metadata": {},
   "outputs": [
    {
     "name": "stdout",
     "output_type": "stream",
     "text": [
      "Wall time: 6.06 s\n"
     ]
    },
    {
     "data": {
      "text/plain": [
       "SGDClassifier(tol=0.0001)"
      ]
     },
     "execution_count": 16,
     "metadata": {},
     "output_type": "execute_result"
    }
   ],
   "source": [
    "%%time\n",
    "features = ['principal component 1','principal component 2','principal component 3','principal component 4','principal component 5','principal component 6','principal component 7','principal component 8','principal component 9','principal component 10','principal component 11','principal component 12','principal component 13','principal component 14','principal component 15','principal component 16','principal component 17','principal component 18','principal component 19','principal component 20']\n",
    "sgd = SGDClassifier(max_iter=1000, tol=1e-4)\n",
    "sgd.fit(heart_dis_train_pred[features],heart_dis_train_pred[\"HeartDisease_No\"])"
   ]
  },
  {
   "cell_type": "code",
   "execution_count": 17,
   "id": "79e76e71",
   "metadata": {},
   "outputs": [],
   "source": [
    "y_pred_sgd = sgd.predict(heart_dis_test_pred[features])"
   ]
  },
  {
   "cell_type": "code",
   "execution_count": 18,
   "id": "15a0263a",
   "metadata": {},
   "outputs": [],
   "source": [
    "pkl.dump(sgd, open('model_sgd_pca.pkl', 'wb'))"
   ]
  },
  {
   "cell_type": "code",
   "execution_count": null,
   "id": "ec81c993",
   "metadata": {},
   "outputs": [],
   "source": [
    "tn, fp, fn, tp = metrics.confusion_matrix(heart_dis_test_pred[\"HeartDisease_No\"], y_pred_sgd).ravel()\n",
    "print('True negatives: ', tn, '\\nFalse positives: ', fp, '\\nFalse negatives: ', fn, '\\nTrue Positives: ', tp)"
   ]
  },
  {
   "cell_type": "code",
   "execution_count": null,
   "id": "0e15011c",
   "metadata": {},
   "outputs": [],
   "source": [
    "print(classification_report(heart_dis_test_pred[\"HeartDisease_No\"], y_pred_sgd))"
   ]
  },
  {
   "cell_type": "code",
   "execution_count": null,
   "id": "b1f225a1",
   "metadata": {},
   "outputs": [],
   "source": [
    "from sklearn import metrics\n",
    "confusion_matrix = metrics.confusion_matrix(heart_dis_test_pred['HeartDisease_No'], y_pred_sgd)\n",
    "cm_display = metrics.ConfusionMatrixDisplay(confusion_matrix = confusion_matrix, display_labels = [False, True])\n",
    "cm_display.plot()\n",
    "plt.show()"
   ]
  },
  {
   "cell_type": "code",
   "execution_count": null,
   "id": "287095ae",
   "metadata": {},
   "outputs": [],
   "source": [
    "test = pd.concat([X_test, Y_test], axis=1)"
   ]
  },
  {
   "cell_type": "code",
   "execution_count": null,
   "id": "14183c9c",
   "metadata": {},
   "outputs": [],
   "source": [
    "metrics.plot_roc_curve(sgd, heart_dis_test_pred[features], heart_dis_test_pred[\"HeartDisease_No\"])"
   ]
  },
  {
   "cell_type": "markdown",
   "id": "c37e5871",
   "metadata": {},
   "source": [
    "# SGD with Scaling + SMOTE + ICA"
   ]
  },
  {
   "cell_type": "code",
   "execution_count": 29,
   "id": "96f050e2",
   "metadata": {},
   "outputs": [],
   "source": [
    "heart_dis_train_pred = pd.read_csv(\"heart_cleaned_encoded_trained_ica.csv\")\n",
    "heart_dis_test_pred = pd.read_csv(\"heart_cleaned_encoded_tested_ica.csv\")"
   ]
  },
  {
   "cell_type": "code",
   "execution_count": 30,
   "id": "722343ea",
   "metadata": {},
   "outputs": [
    {
     "name": "stdout",
     "output_type": "stream",
     "text": [
      "Wall time: 1.94 s\n"
     ]
    },
    {
     "data": {
      "text/plain": [
       "SGDClassifier(tol=0.0001)"
      ]
     },
     "execution_count": 30,
     "metadata": {},
     "output_type": "execute_result"
    }
   ],
   "source": [
    "%%time\n",
    "features = ['independent component 1','independent component 2','independent component 3','independent component 4','independent component 5','independent component 6','independent component 7','independent component 8','independent component 9','independent component 10','independent component 11','independent component 12','independent component 13','independent component 14','independent component 15','independent component 16','independent component 17','independent component 18','independent component 19','independent component 20']\n",
    "sgd = SGDClassifier(max_iter=1000, tol=1e-4)\n",
    "sgd.fit(heart_dis_train_pred[features],heart_dis_train_pred[\"HeartDisease_No\"])"
   ]
  },
  {
   "cell_type": "code",
   "execution_count": null,
   "id": "b7d3fd3e",
   "metadata": {},
   "outputs": [],
   "source": [
    "y_pred_sgd = sgd.predict(heart_dis_test_pred[features])"
   ]
  },
  {
   "cell_type": "code",
   "execution_count": 21,
   "id": "0edf28cd",
   "metadata": {},
   "outputs": [],
   "source": [
    "pkl.dump(sgd, open('model_sgd_ica.pkl', 'wb'))"
   ]
  },
  {
   "cell_type": "code",
   "execution_count": 22,
   "id": "eaa4b697",
   "metadata": {},
   "outputs": [
    {
     "name": "stdout",
     "output_type": "stream",
     "text": [
      "True negatives:  5475 \n",
      "False positives:  0 \n",
      "False negatives:  58484 \n",
      "True Positives:  0\n"
     ]
    }
   ],
   "source": [
    "tn, fp, fn, tp = metrics.confusion_matrix(heart_dis_test_pred[\"HeartDisease_No\"], y_pred_sgd).ravel()\n",
    "print('True negatives: ', tn, '\\nFalse positives: ', fp, '\\nFalse negatives: ', fn, '\\nTrue Positives: ', tp)"
   ]
  },
  {
   "cell_type": "code",
   "execution_count": 23,
   "id": "0f2451b4",
   "metadata": {},
   "outputs": [
    {
     "name": "stdout",
     "output_type": "stream",
     "text": [
      "              precision    recall  f1-score   support\n",
      "\n",
      "           0       0.09      1.00      0.16      5475\n",
      "           1       0.00      0.00      0.00     58484\n",
      "\n",
      "    accuracy                           0.09     63959\n",
      "   macro avg       0.04      0.50      0.08     63959\n",
      "weighted avg       0.01      0.09      0.01     63959\n",
      "\n"
     ]
    },
    {
     "name": "stderr",
     "output_type": "stream",
     "text": [
      "C:\\Users\\chemb\\anaconda3\\lib\\site-packages\\sklearn\\metrics\\_classification.py:1318: UndefinedMetricWarning:\n",
      "\n",
      "Precision and F-score are ill-defined and being set to 0.0 in labels with no predicted samples. Use `zero_division` parameter to control this behavior.\n",
      "\n",
      "C:\\Users\\chemb\\anaconda3\\lib\\site-packages\\sklearn\\metrics\\_classification.py:1318: UndefinedMetricWarning:\n",
      "\n",
      "Precision and F-score are ill-defined and being set to 0.0 in labels with no predicted samples. Use `zero_division` parameter to control this behavior.\n",
      "\n",
      "C:\\Users\\chemb\\anaconda3\\lib\\site-packages\\sklearn\\metrics\\_classification.py:1318: UndefinedMetricWarning:\n",
      "\n",
      "Precision and F-score are ill-defined and being set to 0.0 in labels with no predicted samples. Use `zero_division` parameter to control this behavior.\n",
      "\n"
     ]
    }
   ],
   "source": [
    "print(classification_report(heart_dis_test_pred[\"HeartDisease_No\"], y_pred_sgd))"
   ]
  },
  {
   "cell_type": "code",
   "execution_count": null,
   "id": "5fbfb8c0",
   "metadata": {},
   "outputs": [],
   "source": [
    "from sklearn import metrics\n",
    "confusion_matrix = metrics.confusion_matrix(heart_dis_test_pred['HeartDisease_No'], y_pred_sgd)\n",
    "cm_display = metrics.ConfusionMatrixDisplay(confusion_matrix = confusion_matrix, display_labels = [False, True])\n",
    "cm_display.plot()\n",
    "plt.show()"
   ]
  },
  {
   "cell_type": "code",
   "execution_count": null,
   "id": "28203f65",
   "metadata": {},
   "outputs": [],
   "source": [
    "metrics.plot_roc_curve(sgd, heart_dis_test_pred[features], heart_dis_test_pred[\"HeartDisease_No\"])"
   ]
  },
  {
   "cell_type": "markdown",
   "id": "a2c711a4",
   "metadata": {},
   "source": [
    "# SGD with Scaling + SMOTE + LDA"
   ]
  },
  {
   "cell_type": "code",
   "execution_count": 31,
   "id": "a19ccaa0",
   "metadata": {},
   "outputs": [],
   "source": [
    "heart_dis_train_pred = pd.read_csv(\"heart_cleaned_encoded_trained_lda.csv\")\n",
    "heart_dis_test_pred = pd.read_csv(\"heart_cleaned_encoded_tested_lda.csv\")"
   ]
  },
  {
   "cell_type": "code",
   "execution_count": 32,
   "id": "f8105b82",
   "metadata": {},
   "outputs": [
    {
     "name": "stdout",
     "output_type": "stream",
     "text": [
      "Wall time: 1.28 s\n"
     ]
    },
    {
     "data": {
      "text/plain": [
       "SGDClassifier(tol=0.0001)"
      ]
     },
     "execution_count": 32,
     "metadata": {},
     "output_type": "execute_result"
    }
   ],
   "source": [
    "%%time\n",
    "features = ['lda 1']\n",
    "sgd = SGDClassifier(max_iter=1000, tol=1e-4)\n",
    "sgd.fit(heart_dis_train_pred[features],heart_dis_train_pred[\"HeartDisease_No\"])"
   ]
  },
  {
   "cell_type": "code",
   "execution_count": 33,
   "id": "92364c6c",
   "metadata": {},
   "outputs": [],
   "source": [
    "y_pred_sgd = sgd.predict(heart_dis_test_pred[features])"
   ]
  },
  {
   "cell_type": "code",
   "execution_count": 26,
   "id": "74d0ba26",
   "metadata": {},
   "outputs": [],
   "source": [
    "pkl.dump(sgd, open('model_sgd_lda.pkl', 'wb'))"
   ]
  },
  {
   "cell_type": "code",
   "execution_count": 27,
   "id": "eec5f419",
   "metadata": {},
   "outputs": [
    {
     "name": "stdout",
     "output_type": "stream",
     "text": [
      "True negatives:  4301 \n",
      "False positives:  1174 \n",
      "False negatives:  15702 \n",
      "True Positives:  42782\n"
     ]
    }
   ],
   "source": [
    "tn, fp, fn, tp = metrics.confusion_matrix(heart_dis_test_pred[\"HeartDisease_No\"], y_pred_sgd).ravel()\n",
    "print('True negatives: ', tn, '\\nFalse positives: ', fp, '\\nFalse negatives: ', fn, '\\nTrue Positives: ', tp)"
   ]
  },
  {
   "cell_type": "code",
   "execution_count": 28,
   "id": "59aff79f",
   "metadata": {},
   "outputs": [
    {
     "name": "stdout",
     "output_type": "stream",
     "text": [
      "              precision    recall  f1-score   support\n",
      "\n",
      "           0       0.22      0.79      0.34      5475\n",
      "           1       0.97      0.73      0.84     58484\n",
      "\n",
      "    accuracy                           0.74     63959\n",
      "   macro avg       0.59      0.76      0.59     63959\n",
      "weighted avg       0.91      0.74      0.79     63959\n",
      "\n"
     ]
    }
   ],
   "source": [
    "print(classification_report(heart_dis_test_pred[\"HeartDisease_No\"], y_pred_sgd))"
   ]
  },
  {
   "cell_type": "code",
   "execution_count": null,
   "id": "38b18f9f",
   "metadata": {},
   "outputs": [],
   "source": [
    "from sklearn import metrics\n",
    "confusion_matrix = metrics.confusion_matrix(heart_dis_test_pred['HeartDisease_No'], y_pred_sgd)\n",
    "cm_display = metrics.ConfusionMatrixDisplay(confusion_matrix = confusion_matrix, display_labels = [False, True])\n",
    "cm_display.plot()\n",
    "plt.show()"
   ]
  },
  {
   "cell_type": "code",
   "execution_count": null,
   "id": "b64ddbdd",
   "metadata": {},
   "outputs": [],
   "source": [
    "metrics.plot_roc_curve(sgd, heart_dis_test_pred[features], heart_dis_test_pred[\"HeartDisease_No\"])"
   ]
  }
 ],
 "metadata": {
  "kernelspec": {
   "display_name": "Python 3 (ipykernel)",
   "language": "python",
   "name": "python3"
  },
  "language_info": {
   "codemirror_mode": {
    "name": "ipython",
    "version": 3
   },
   "file_extension": ".py",
   "mimetype": "text/x-python",
   "name": "python",
   "nbconvert_exporter": "python",
   "pygments_lexer": "ipython3",
   "version": "3.9.7"
  }
 },
 "nbformat": 4,
 "nbformat_minor": 5
}
