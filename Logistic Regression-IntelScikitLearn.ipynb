{
 "cells": [
  {
   "cell_type": "code",
   "execution_count": 1,
   "id": "e51e8fac",
   "metadata": {},
   "outputs": [],
   "source": [
    "import numpy as np\n",
    "import pandas as pd\n",
    "import pickle as pkl\n",
    "import seaborn as sns\n",
    "import sweetviz as sv\n",
    "import category_encoders as ce\n",
    "import matplotlib.pyplot as plt\n",
    "from collections import Counter\n",
    "from sklearn import preprocessing\n",
    "from sklearn.decomposition import PCA\n",
    "from imblearn.over_sampling import SMOTE\n",
    "from sklearn.decomposition import FastICA\n",
    "from pandas_profiling import ProfileReport\n",
    "from sklearn.metrics import confusion_matrix\n",
    "from sklearn.preprocessing import StandardScaler\n",
    "from feature_engine.encoding import OneHotEncoder\n",
    "from sklearn.metrics import classification_report\n",
    "from sklearn.linear_model import LogisticRegression\n",
    "from sklearn.model_selection import train_test_split\n",
    "from sklearn.feature_selection import SelectFromModel\n",
    "from sklearn.discriminant_analysis import LinearDiscriminantAnalysis as LDA"
   ]
  },
  {
   "cell_type": "code",
   "execution_count": 2,
   "id": "748fa5df",
   "metadata": {},
   "outputs": [
    {
     "name": "stderr",
     "output_type": "stream",
     "text": [
      "Intel(R) Extension for Scikit-learn* enabled (https://github.com/intel/scikit-learn-intelex)\n"
     ]
    }
   ],
   "source": [
    "from sklearnex import patch_sklearn\n",
    "patch_sklearn()"
   ]
  },
  {
   "cell_type": "code",
   "execution_count": 3,
   "id": "e848df37",
   "metadata": {},
   "outputs": [],
   "source": [
    "pd.set_option('display.max_columns', None)\n",
    "pd.set_option('display.max_rows', None)"
   ]
  },
  {
   "cell_type": "code",
   "execution_count": 4,
   "id": "e33e37e4",
   "metadata": {},
   "outputs": [],
   "source": [
    "heart_dis_pred = pd.read_csv(\"heart_cleaned_encoded.csv\")"
   ]
  },
  {
   "cell_type": "code",
   "execution_count": 5,
   "id": "24b106d1",
   "metadata": {},
   "outputs": [],
   "source": [
    "features = ['BMI', 'PhysicalHealth', 'MentalHealth', 'AgeCategory_0', 'AgeCategory_1', 'AgeCategory_2', 'AgeCategory_3', 'Race_0', 'Race_1', 'Race_2', 'GenHealth_0', 'GenHealth_1', 'GenHealth_2', 'SleepTime', 'Smoking_No', 'AlcoholDrinking_No', 'Stroke_No', 'DiffWalking_No', 'Sex_Female', 'Diabetic_No', 'KidneyDisease_No', 'SkinCancer_No', 'PhysicalActivity_Yes', 'Asthma_No']\n",
    "# Separating out the features\n",
    "x = heart_dis_pred.loc[:, features].values\n",
    "# Separating out the target\n",
    "y = heart_dis_pred.loc[:,['HeartDisease_No']].values\n",
    "\n",
    "colors = ['red', 'green', 'blue', 'orange', 'yellow', 'indigo', 'violet', 'Pink', 'Purple', \n",
    "          'Turquoise', 'Gold', 'Lime', 'Maroon', 'Navy', 'Coral', 'Teal', 'Brown' ,'Black', 'Pink', 'rosybrown', 'Grey', 'darkkhaki'\n",
    "             , 'Silver', 'darkolivegreen', 'black']\n",
    "\n",
    "scaler = preprocessing.StandardScaler()\n",
    "standard_df = scaler.fit_transform(x)\n",
    "standard_df = pd.DataFrame(standard_df, columns = features)\n",
    "standard_df = pd.concat([standard_df, heart_dis_pred.loc[:,['HeartDisease_No']]], axis=1)\n",
    "\n",
    "# fig, ax1 = plt.subplots(ncols = 1, figsize =(20, 10))\n",
    "# for column, color in zip(features, colors):\n",
    "#     sns.kdeplot(standard_df[column], ax = ax1, color = color)\n",
    "# ax1.set_title('After Standard Scaling')\n",
    "# plt.show()"
   ]
  },
  {
   "cell_type": "code",
   "execution_count": 6,
   "id": "bc6d1b53",
   "metadata": {},
   "outputs": [],
   "source": [
    "heart_dis_pred = standard_df\n",
    "# print(heart_dis_pred.head(5))\n",
    "# print(heart_dis_pred.shape)"
   ]
  },
  {
   "cell_type": "code",
   "execution_count": 7,
   "id": "b9c9220c",
   "metadata": {},
   "outputs": [
    {
     "data": {
      "image/png": "[encoded data removed]",
      "text/plain": [
       "<Figure size 432x288 with 1 Axes>"
      ]
     },
     "metadata": {
      "needs_background": "light"
     },
     "output_type": "display_data"
    }
   ],
   "source": [
    "status_plot = sns.countplot(x ='HeartDisease_No', data = heart_dis_pred)"
   ]
  },
  {
   "cell_type": "code",
   "execution_count": 8,
   "id": "4de64ab4",
   "metadata": {},
   "outputs": [
    {
     "data": {
      "text/plain": [
       "<AxesSubplot:title={'center':'Verify that class distributuion in train is same as input data'}, xlabel='HeartDisease_No'>"
      ]
     },
     "execution_count": 8,
     "metadata": {},
     "output_type": "execute_result"
    },
    {
     "data": {
      "image/png": "[encoded data removed]",
      "text/plain": [
       "<Figure size 432x288 with 1 Axes>"
      ]
     },
     "metadata": {
      "needs_background": "light"
     },
     "output_type": "display_data"
    }
   ],
   "source": [
    "train, test = train_test_split(heart_dis_pred, test_size = 0.2, stratify=heart_dis_pred['HeartDisease_No'])\n",
    "train.pivot_table(index='HeartDisease_No', aggfunc='size').plot(kind='bar', title='Verify that class distributuion in train is same as input data')"
   ]
  },
  {
   "cell_type": "code",
   "execution_count": 9,
   "id": "a11c9e42",
   "metadata": {},
   "outputs": [
    {
     "data": {
      "text/plain": [
       "<AxesSubplot:title={'center':'Verify that class distributuion in test is same as input data'}, xlabel='HeartDisease_No'>"
      ]
     },
     "execution_count": 9,
     "metadata": {},
     "output_type": "execute_result"
    },
    {
     "data": {
      "image/png": "[encoded data removed]",
      "text/plain": [
       "<Figure size 432x288 with 1 Axes>"
      ]
     },
     "metadata": {
      "needs_background": "light"
     },
     "output_type": "display_data"
    }
   ],
   "source": [
    "test.pivot_table(index='HeartDisease_No', aggfunc='size').plot(kind='bar', title='Verify that class distributuion in test is same as input data')"
   ]
  },
  {
   "cell_type": "markdown",
   "id": "5c136f6a",
   "metadata": {},
   "source": [
    "# Logistic Regression with Scaling"
   ]
  },
  {
   "cell_type": "code",
   "execution_count": 10,
   "id": "9ac9fe93",
   "metadata": {},
   "outputs": [
    {
     "name": "stdout",
     "output_type": "stream",
     "text": [
      "Wall time: 390 ms\n"
     ]
    },
    {
     "data": {
      "text/plain": [
       "LogisticRegression()"
      ]
     },
     "execution_count": 10,
     "metadata": {},
     "output_type": "execute_result"
    }
   ],
   "source": [
    "%%time\n",
    "# Instantiate the Logistic Regression with only default settings\n",
    "my_log_reg = LogisticRegression()\n",
    "\n",
    "# Fit the logistic regression on the independent variables of the train data with buy as dependent variable\n",
    "my_log_reg.fit(train[features], train['HeartDisease_No'])\n",
    "\n"
   ]
  },
  {
   "cell_type": "code",
   "execution_count": 11,
   "id": "dee574e5",
   "metadata": {},
   "outputs": [],
   "source": [
    "# Make a prediction using our model on the test set\n",
    "preds = my_log_reg.predict(test[features])"
   ]
  },
  {
   "cell_type": "code",
   "execution_count": 12,
   "id": "30a4143d",
   "metadata": {},
   "outputs": [],
   "source": [
    "pkl.dump(my_log_reg, open('model_lr.pkl', 'wb'))"
   ]
  },
  {
   "cell_type": "code",
   "execution_count": 13,
   "id": "c837468f",
   "metadata": {},
   "outputs": [
    {
     "name": "stdout",
     "output_type": "stream",
     "text": [
      "True negatives:  553 \n",
      "False positives:  4922 \n",
      "False negatives:  517 \n",
      "True Positives:  57967\n"
     ]
    }
   ],
   "source": [
    "tn, fp, fn, tp = confusion_matrix(test['HeartDisease_No'], preds).ravel()\n",
    "print('True negatives: ', tn, '\\nFalse positives: ', fp, '\\nFalse negatives: ', fn, '\\nTrue Positives: ', tp)"
   ]
  },
  {
   "cell_type": "code",
   "execution_count": 14,
   "id": "5bab2685",
   "metadata": {},
   "outputs": [
    {
     "name": "stdout",
     "output_type": "stream",
     "text": [
      "              precision    recall  f1-score   support\n",
      "\n",
      "           0       0.52      0.10      0.17      5475\n",
      "           1       0.92      0.99      0.96     58484\n",
      "\n",
      "    accuracy                           0.91     63959\n",
      "   macro avg       0.72      0.55      0.56     63959\n",
      "weighted avg       0.89      0.91      0.89     63959\n",
      "\n"
     ]
    }
   ],
   "source": [
    "print(classification_report(test['HeartDisease_No'], preds))"
   ]
  },
  {
   "cell_type": "code",
   "execution_count": 15,
   "id": "13a4aa11",
   "metadata": {},
   "outputs": [
    {
     "data": {
      "image/png": "[encoded data removed]",
      "text/plain": [
       "<Figure size 432x288 with 2 Axes>"
      ]
     },
     "metadata": {
      "needs_background": "light"
     },
     "output_type": "display_data"
    }
   ],
   "source": [
    "from sklearn import metrics\n",
    "confusion_matrix = metrics.confusion_matrix(test['HeartDisease_No'], preds)\n",
    "cm_display = metrics.ConfusionMatrixDisplay(confusion_matrix = confusion_matrix, display_labels = [False, True])\n",
    "cm_display.plot()\n",
    "plt.show()"
   ]
  },
  {
   "cell_type": "code",
   "execution_count": 16,
   "id": "b6b58e20",
   "metadata": {},
   "outputs": [
    {
     "name": "stderr",
     "output_type": "stream",
     "text": [
      "C:\\Users\\chemb\\anaconda3\\lib\\site-packages\\deepchecks\\checks.py:21: DeprecationWarning:\n",
      "\n",
      "Ability to import tabular checks from the `deepchecks.checks` is deprecated, please import from `deepchecks.tabular.checks` instead\n",
      "\n",
      "C:\\Users\\chemb\\anaconda3\\lib\\site-packages\\deepchecks\\__init__.py:136: DeprecationWarning:\n",
      "\n",
      "Ability to import base tabular functionality from the `deepchecks` package directly is deprecated, please import from `deepchecks.tabular` instead\n",
      "\n",
      "deepchecks - WARNING - It is recommended to initialize Dataset with categorical features by doing \"Dataset(df, cat_features=categorical_list)\". No categorical features were passed, therefore heuristically inferring categorical features in the data. 20 categorical features were inferred.: AgeCategory_0, AgeCategory_1, AgeCategory_2, AgeCategory_3, Race_0, Race_1, Race_2... For full list use dataset.cat_features\n",
      "WARNING:deepchecks:It is recommended to initialize Dataset with categorical features by doing \"Dataset(df, cat_features=categorical_list)\". No categorical features were passed, therefore heuristically inferring categorical features in the data. 20 categorical features were inferred.: AgeCategory_0, AgeCategory_1, AgeCategory_2, AgeCategory_3, Race_0, Race_1, Race_2... For full list use dataset.cat_features\n"
     ]
    },
    {
     "data": {
      "application/vnd.jupyter.widget-view+json": {
       "model_id": "3d03a066a64a437bbe82baf5b830f31f",
       "version_major": 2,
       "version_minor": 0
      },
      "text/plain": [
       "VBox(children=(HTML(value='<h4><b>ROC Report</b></h4>'), HTML(value='<p>Calculate the ROC curve for each class…"
      ]
     },
     "metadata": {},
     "output_type": "display_data"
    }
   ],
   "source": [
    "from deepchecks.checks import RocReport\n",
    "from deepchecks import Dataset\n",
    "\n",
    "RocReport().run(Dataset(test, label='HeartDisease_No'), my_log_reg)"
   ]
  },
  {
   "cell_type": "markdown",
   "id": "9c537022",
   "metadata": {},
   "source": [
    "# Logistic Regression with Scaling + SMOTE"
   ]
  },
  {
   "cell_type": "code",
   "execution_count": 17,
   "id": "1155b59e",
   "metadata": {},
   "outputs": [
    {
     "name": "stdout",
     "output_type": "stream",
     "text": [
      "(467876, 24)\n"
     ]
    },
    {
     "data": {
      "text/plain": [
       "(255836, 24)"
      ]
     },
     "execution_count": 17,
     "metadata": {},
     "output_type": "execute_result"
    }
   ],
   "source": [
    "X_resampled, y_resampled = SMOTE().fit_resample(train[features], train['HeartDisease_No'])\n",
    "print(X_resampled.shape)\n",
    "train[features].shape"
   ]
  },
  {
   "cell_type": "code",
   "execution_count": 18,
   "id": "2d148c20",
   "metadata": {},
   "outputs": [
    {
     "name": "stdout",
     "output_type": "stream",
     "text": [
      "(467876, 25)\n"
     ]
    }
   ],
   "source": [
    "features = ['BMI', 'PhysicalHealth', 'MentalHealth', 'AgeCategory_0', 'AgeCategory_1', 'AgeCategory_2', 'AgeCategory_3', 'Race_0', 'Race_1', 'Race_2', 'GenHealth_0', 'GenHealth_1', 'GenHealth_2', 'SleepTime', 'Smoking_No', 'AlcoholDrinking_No', 'Stroke_No', 'DiffWalking_No', 'Sex_Female', 'Diabetic_No', 'KidneyDisease_No', 'SkinCancer_No', 'PhysicalActivity_Yes', 'Asthma_No']\n",
    "tempDf1 = pd.DataFrame(data = X_resampled, columns = features )\n",
    "tempDf2 =  y_resampled.to_frame(name='HeartDisease_No')\n",
    "smote_df = pd.concat([tempDf1, tempDf2], axis = 1)\n",
    "print(smote_df.shape)\n",
    "smote_df.to_csv(\"heart_cleaned_encoded_smote.csv\")"
   ]
  },
  {
   "cell_type": "code",
   "execution_count": 19,
   "id": "433505d9",
   "metadata": {},
   "outputs": [
    {
     "data": {
      "text/plain": [
       "<AxesSubplot:title={'center':'Class distribution after appying SMOTE'}, xlabel='HeartDisease_No'>"
      ]
     },
     "execution_count": 19,
     "metadata": {},
     "output_type": "execute_result"
    },
    {
     "data": {
      "image/png": "[encoded data removed]",
      "text/plain": [
       "<Figure size 432x288 with 1 Axes>"
      ]
     },
     "metadata": {
      "needs_background": "light"
     },
     "output_type": "display_data"
    }
   ],
   "source": [
    "pd.Series(y_resampled).value_counts().plot(kind='bar', title='Class distribution after appying SMOTE', xlabel='HeartDisease_No')"
   ]
  },
  {
   "cell_type": "code",
   "execution_count": 20,
   "id": "5384c8c9",
   "metadata": {},
   "outputs": [
    {
     "name": "stdout",
     "output_type": "stream",
     "text": [
      "Wall time: 295 ms\n"
     ]
    },
    {
     "data": {
      "text/plain": [
       "'Scikit-learn time: 0.30 s'"
      ]
     },
     "execution_count": 20,
     "metadata": {},
     "output_type": "execute_result"
    }
   ],
   "source": [
    "%%time\n",
    "from timeit import default_timer as timer\n",
    "# Instantiate the new Logistic Regression\n",
    "log_reg_2 = LogisticRegression(random_state = 2022)\n",
    "start = timer()\n",
    "# Fit the model with the data that has been resampled with SMOTE\n",
    "log_reg_2.fit(X_resampled, y_resampled)\n",
    "train_patched = timer() - start\n",
    "f\"Scikit-learn time: {train_patched:.2f} s\""
   ]
  },
  {
   "cell_type": "code",
   "execution_count": 21,
   "id": "d21427de",
   "metadata": {},
   "outputs": [],
   "source": [
    "# Predict on the test set (not resampled to obtain honest evaluation)\n",
    "preds2 = log_reg_2.predict(test[features])"
   ]
  },
  {
   "cell_type": "code",
   "execution_count": 22,
   "id": "909df42e",
   "metadata": {},
   "outputs": [],
   "source": [
    "pkl.dump(log_reg_2, open('model_lr_smote.pkl', 'wb'))"
   ]
  },
  {
   "cell_type": "code",
   "execution_count": 23,
   "id": "d3a4581e",
   "metadata": {},
   "outputs": [
    {
     "name": "stdout",
     "output_type": "stream",
     "text": [
      "True negatives:  4177 \n",
      "False positives:  1298 \n",
      "False negatives:  14367 \n",
      "True positives:  44117\n"
     ]
    }
   ],
   "source": [
    "tn, fp, fn, tp = metrics.confusion_matrix(test['HeartDisease_No'], preds2).ravel()\n",
    "print('True negatives: ', tn, '\\nFalse positives: ', fp, '\\nFalse negatives: ', fn, '\\nTrue positives: ', tp)"
   ]
  },
  {
   "cell_type": "code",
   "execution_count": 24,
   "id": "ae92cb8b",
   "metadata": {},
   "outputs": [
    {
     "data": {
      "image/png": "[encoded data removed]",
      "text/plain": [
       "<Figure size 432x288 with 2 Axes>"
      ]
     },
     "metadata": {
      "needs_background": "light"
     },
     "output_type": "display_data"
    }
   ],
   "source": [
    "from sklearn import metrics\n",
    "confusion_matrix = metrics.confusion_matrix(test['HeartDisease_No'], preds2)\n",
    "cm_display = metrics.ConfusionMatrixDisplay(confusion_matrix = confusion_matrix, display_labels = [False, True])\n",
    "cm_display.plot()\n",
    "plt.show()"
   ]
  },
  {
   "cell_type": "code",
   "execution_count": 25,
   "id": "d15e446d",
   "metadata": {},
   "outputs": [
    {
     "name": "stdout",
     "output_type": "stream",
     "text": [
      "              precision    recall  f1-score   support\n",
      "\n",
      "           0       0.23      0.76      0.35      5475\n",
      "           1       0.97      0.75      0.85     58484\n",
      "\n",
      "    accuracy                           0.76     63959\n",
      "   macro avg       0.60      0.76      0.60     63959\n",
      "weighted avg       0.91      0.76      0.81     63959\n",
      "\n"
     ]
    }
   ],
   "source": [
    "print(classification_report(test['HeartDisease_No'], preds2))"
   ]
  },
  {
   "cell_type": "code",
   "execution_count": 26,
   "id": "c71c71af",
   "metadata": {},
   "outputs": [
    {
     "name": "stderr",
     "output_type": "stream",
     "text": [
      "C:\\Users\\chemb\\anaconda3\\lib\\site-packages\\deepchecks\\__init__.py:136: DeprecationWarning:\n",
      "\n",
      "Ability to import base tabular functionality from the `deepchecks` package directly is deprecated, please import from `deepchecks.tabular` instead\n",
      "\n",
      "deepchecks - WARNING - It is recommended to initialize Dataset with categorical features by doing \"Dataset(df, cat_features=categorical_list)\". No categorical features were passed, therefore heuristically inferring categorical features in the data. 20 categorical features were inferred.: AgeCategory_0, AgeCategory_1, AgeCategory_2, AgeCategory_3, Race_0, Race_1, Race_2... For full list use dataset.cat_features\n",
      "WARNING:deepchecks:It is recommended to initialize Dataset with categorical features by doing \"Dataset(df, cat_features=categorical_list)\". No categorical features were passed, therefore heuristically inferring categorical features in the data. 20 categorical features were inferred.: AgeCategory_0, AgeCategory_1, AgeCategory_2, AgeCategory_3, Race_0, Race_1, Race_2... For full list use dataset.cat_features\n"
     ]
    },
    {
     "data": {
      "application/vnd.jupyter.widget-view+json": {
       "model_id": "d28274cb222846ad8a65791a311f3df3",
       "version_major": 2,
       "version_minor": 0
      },
      "text/plain": [
       "VBox(children=(HTML(value='<h4><b>ROC Report</b></h4>'), HTML(value='<p>Calculate the ROC curve for each class…"
      ]
     },
     "metadata": {},
     "output_type": "display_data"
    }
   ],
   "source": [
    "from deepchecks.checks import RocReport\n",
    "from deepchecks import Dataset\n",
    "\n",
    "RocReport().run(Dataset(test, label='HeartDisease_No'), log_reg_2)"
   ]
  },
  {
   "cell_type": "markdown",
   "id": "f5ed0929",
   "metadata": {},
   "source": [
    "# Logistic Regression with Scaling + SMOTE + PCA"
   ]
  },
  {
   "cell_type": "code",
   "execution_count": 27,
   "id": "998df222",
   "metadata": {},
   "outputs": [
    {
     "name": "stdout",
     "output_type": "stream",
     "text": [
      "\n",
      " n_components_---> 20\n",
      "\n",
      " explained_variance_ratio_---> [0.15992216 0.08433648 0.07331572 0.06717918 0.06073466 0.04924848\n",
      " 0.04397814 0.04106307 0.04025908 0.03972532 0.03602885 0.03484309\n",
      " 0.03372844 0.03204283 0.03071741 0.0286314  0.02683947 0.02581859\n",
      " 0.02236277 0.02130606]\n",
      "\n",
      " n_components_---> 20\n",
      "\n",
      " explained_variance_ratio_---> [0.15992216 0.08433648 0.07331572 0.06717918 0.06073466 0.04924848\n",
      " 0.04397814 0.04106307 0.04025908 0.03972532 0.03602885 0.03484309\n",
      " 0.03372844 0.03204283 0.03071741 0.0286314  0.02683947 0.02581859\n",
      " 0.02236277 0.02130606]\n"
     ]
    }
   ],
   "source": [
    "pca = PCA(n_components = 0.95)\n",
    "pca.fit(X_resampled)\n",
    "reduced = pca.transform(X_resampled)\n",
    "print(\"\\n n_components_--->\",pca.n_components_)\n",
    "principalTrainDf = pd.DataFrame(data = reduced, columns = ['principal component 1','principal component 2','principal component 3', 'principal component 4','principal component 5','principal component 6','principal component 7','principal component 8','principal component 9','principal component 10','principal component 11','principal component 12','principal component 13','principal component 14','principal component 15','principal component 16','principal component 17','principal component 18','principal component 19','principal component 20'])\n",
    "finalTrainDf = pd.concat([principalTrainDf, y_resampled], axis = 1)\n",
    "print(\"\\n explained_variance_ratio_--->\",pca.explained_variance_ratio_)\n",
    "finalTrainDf.to_csv(\"heart_cleaned_encoded_trained_pca.csv\")\n",
    "\n",
    "\n",
    "testTargetVars = pd.DataFrame()\n",
    "testTargetVars['HeartDisease_No'] = test['HeartDisease_No'].values\n",
    "pcaTest = test.drop(['HeartDisease_No'], axis=1)\n",
    "reduced = pca.transform(pcaTest)\n",
    "print(\"\\n n_components_--->\",pca.n_components_)\n",
    "principalTestDf = pd.DataFrame(data = reduced, columns = ['principal component 1','principal component 2','principal component 3', 'principal component 4','principal component 5','principal component 6','principal component 7','principal component 8','principal component 9','principal component 10','principal component 11','principal component 12','principal component 13','principal component 14','principal component 15','principal component 16','principal component 17','principal component 18','principal component 19','principal component 20'])\n",
    "finalTestDf = pd.concat([principalTestDf, testTargetVars], axis = 1)\n",
    "print(\"\\n explained_variance_ratio_--->\",pca.explained_variance_ratio_)\n",
    "finalTestDf.to_csv(\"heart_cleaned_encoded_tested_pca.csv\")"
   ]
  },
  {
   "cell_type": "code",
   "execution_count": 28,
   "id": "eb15572b",
   "metadata": {},
   "outputs": [
    {
     "name": "stdout",
     "output_type": "stream",
     "text": [
      "Wall time: 214 ms\n"
     ]
    },
    {
     "data": {
      "text/plain": [
       "LogisticRegression()"
      ]
     },
     "execution_count": 28,
     "metadata": {},
     "output_type": "execute_result"
    }
   ],
   "source": [
    "%%time\n",
    "features = ['principal component 1','principal component 2','principal component 3', 'principal component 4','principal component 5','principal component 6','principal component 7','principal component 8','principal component 9','principal component 10','principal component 11','principal component 12','principal component 13','principal component 14','principal component 15','principal component 16','principal component 17','principal component 18','principal component 19','principal component 20']\n",
    "\n",
    "# Instantiate the Logistic Regression with only default settings\n",
    "my_log_reg = LogisticRegression()\n",
    "\n",
    "# Fit the logistic regression on the independent variables of the train data with buy as dependent variable\n",
    "my_log_reg.fit(finalTrainDf[features], finalTrainDf['HeartDisease_No'])"
   ]
  },
  {
   "cell_type": "code",
   "execution_count": 29,
   "id": "d2e587a8",
   "metadata": {},
   "outputs": [],
   "source": [
    "# Make a prediction using our model on the test set\n",
    "preds = my_log_reg.predict(finalTestDf[features])"
   ]
  },
  {
   "cell_type": "code",
   "execution_count": 30,
   "id": "2740d24c",
   "metadata": {},
   "outputs": [],
   "source": [
    "pkl.dump(my_log_reg, open('model_lr_pca.pkl', 'wb'))"
   ]
  },
  {
   "cell_type": "code",
   "execution_count": 31,
   "id": "d7b3c0da",
   "metadata": {},
   "outputs": [
    {
     "name": "stdout",
     "output_type": "stream",
     "text": [
      "True negatives:  3922 \n",
      "False positives:  1553 \n",
      "False negatives:  13536 \n",
      "True Positives:  44948\n"
     ]
    }
   ],
   "source": [
    "tn, fp, fn, tp = metrics.confusion_matrix(finalTestDf['HeartDisease_No'], preds).ravel()\n",
    "print('True negatives: ', tn, '\\nFalse positives: ', fp, '\\nFalse negatives: ', fn, '\\nTrue Positives: ', tp)"
   ]
  },
  {
   "cell_type": "code",
   "execution_count": 32,
   "id": "2f22b000",
   "metadata": {},
   "outputs": [
    {
     "name": "stdout",
     "output_type": "stream",
     "text": [
      "              precision    recall  f1-score   support\n",
      "\n",
      "           0       0.22      0.72      0.34      5475\n",
      "           1       0.97      0.77      0.86     58484\n",
      "\n",
      "    accuracy                           0.76     63959\n",
      "   macro avg       0.60      0.74      0.60     63959\n",
      "weighted avg       0.90      0.76      0.81     63959\n",
      "\n"
     ]
    }
   ],
   "source": [
    "print(classification_report(finalTestDf['HeartDisease_No'], preds))"
   ]
  },
  {
   "cell_type": "code",
   "execution_count": 33,
   "id": "7c52c050",
   "metadata": {},
   "outputs": [
    {
     "data": {
      "image/png": "[encoded data removed]",
      "text/plain": [
       "<Figure size 432x288 with 2 Axes>"
      ]
     },
     "metadata": {
      "needs_background": "light"
     },
     "output_type": "display_data"
    }
   ],
   "source": [
    "from sklearn import metrics\n",
    "confusion_matrix = metrics.confusion_matrix(finalTestDf['HeartDisease_No'], preds)\n",
    "cm_display = metrics.ConfusionMatrixDisplay(confusion_matrix = confusion_matrix, display_labels = [False, True])\n",
    "cm_display.plot()\n",
    "plt.show()"
   ]
  },
  {
   "cell_type": "code",
   "execution_count": 34,
   "id": "a527a742",
   "metadata": {},
   "outputs": [
    {
     "name": "stderr",
     "output_type": "stream",
     "text": [
      "C:\\Users\\chemb\\anaconda3\\lib\\site-packages\\deepchecks\\__init__.py:136: DeprecationWarning:\n",
      "\n",
      "Ability to import base tabular functionality from the `deepchecks` package directly is deprecated, please import from `deepchecks.tabular` instead\n",
      "\n",
      "deepchecks - WARNING - It is recommended to initialize Dataset with categorical features by doing \"Dataset(df, cat_features=categorical_list)\". No categorical features were passed, therefore heuristically inferring categorical features in the data. 0 categorical features were inferred.\n",
      "WARNING:deepchecks:It is recommended to initialize Dataset with categorical features by doing \"Dataset(df, cat_features=categorical_list)\". No categorical features were passed, therefore heuristically inferring categorical features in the data. 0 categorical features were inferred.\n"
     ]
    },
    {
     "data": {
      "application/vnd.jupyter.widget-view+json": {
       "model_id": "cebbdf23b40a482a9f97b58ae4d2413a",
       "version_major": 2,
       "version_minor": 0
      },
      "text/plain": [
       "VBox(children=(HTML(value='<h4><b>ROC Report</b></h4>'), HTML(value='<p>Calculate the ROC curve for each class…"
      ]
     },
     "metadata": {},
     "output_type": "display_data"
    }
   ],
   "source": [
    "from deepchecks.checks import RocReport\n",
    "from deepchecks import Dataset\n",
    "\n",
    "RocReport().run(Dataset(finalTestDf, label='HeartDisease_No'), my_log_reg)"
   ]
  },
  {
   "cell_type": "markdown",
   "id": "860fbcf2",
   "metadata": {},
   "source": [
    "# Logistic Regression with Scaling + SMOTE + ICA"
   ]
  },
  {
   "cell_type": "code",
   "execution_count": 35,
   "id": "2258024e",
   "metadata": {},
   "outputs": [],
   "source": [
    "# Creating ICA object\n",
    "ica = FastICA(n_components=20)\n",
    "independentComponentValues=ica.fit_transform(X_resampled)\n",
    "#Creating the dataframe\n",
    "reducedData=pd.DataFrame(data=independentComponentValues, columns=['independent component 1','independent component 2','independent component 3','independent component 4','independent component 5','independent component 6','independent component 7','independent component 8','independent component 9','independent component 10','independent component 11','independent component 12','independent component 13','independent component 14','independent component 15','independent component 16','independent component 17','independent component 18','independent component 19','independent component 20'])\n",
    "finalTrainDf = pd.concat([reducedData, y_resampled], axis = 1)\n",
    "# print(finalTrainDf.head(5))\n",
    "finalTrainDf.to_csv(\"heart_cleaned_encoded_trained_ica.csv\")\n",
    "\n",
    "testTargetVars = pd.DataFrame()\n",
    "testTargetVars['HeartDisease_No'] = test['HeartDisease_No'].values\n",
    "icaTest = test.drop(['HeartDisease_No'], axis=1)\n",
    "independentComponentValues=ica.transform(icaTest)\n",
    "reducedData=pd.DataFrame(data=independentComponentValues, columns=['independent component 1','independent component 2','independent component 3','independent component 4','independent component 5','independent component 6','independent component 7','independent component 8','independent component 9','independent component 10','independent component 11','independent component 12','independent component 13','independent component 14','independent component 15','independent component 16','independent component 17','independent component 18','independent component 19','independent component 20'])\n",
    "finalTestDf = pd.concat([reducedData, testTargetVars], axis = 1)\n",
    "finalTestDf.to_csv(\"heart_cleaned_encoded_tested_ica.csv\")"
   ]
  },
  {
   "cell_type": "code",
   "execution_count": 36,
   "id": "d2c17b3c",
   "metadata": {},
   "outputs": [
    {
     "name": "stdout",
     "output_type": "stream",
     "text": [
      "Wall time: 160 ms\n"
     ]
    },
    {
     "data": {
      "text/plain": [
       "LogisticRegression()"
      ]
     },
     "execution_count": 36,
     "metadata": {},
     "output_type": "execute_result"
    }
   ],
   "source": [
    "%%time\n",
    "features = ['independent component 1','independent component 2','independent component 3','independent component 4','independent component 5','independent component 6','independent component 7','independent component 8','independent component 9','independent component 10','independent component 11','independent component 12','independent component 13','independent component 14','independent component 15','independent component 16','independent component 17','independent component 18','independent component 19','independent component 20']\n",
    "\n",
    "# Instantiate the Logistic Regression with only default settings\n",
    "my_log_reg = LogisticRegression()\n",
    "\n",
    "# Fit the logistic regression on the independent variables of the train data with buy as dependent variable\n",
    "my_log_reg.fit(finalTrainDf[features], finalTrainDf['HeartDisease_No'])"
   ]
  },
  {
   "cell_type": "code",
   "execution_count": 37,
   "id": "4378e40f",
   "metadata": {},
   "outputs": [],
   "source": [
    "# Make a prediction using our model on the test set\n",
    "preds = my_log_reg.predict(finalTestDf[features])"
   ]
  },
  {
   "cell_type": "code",
   "execution_count": 38,
   "id": "38ea5039",
   "metadata": {},
   "outputs": [],
   "source": [
    "pkl.dump(my_log_reg, open('model_lr_ica.pkl', 'wb'))"
   ]
  },
  {
   "cell_type": "code",
   "execution_count": 39,
   "id": "ae5d0f2d",
   "metadata": {},
   "outputs": [
    {
     "name": "stdout",
     "output_type": "stream",
     "text": [
      "True negatives:  3900 \n",
      "False positives:  1575 \n",
      "False negatives:  13290 \n",
      "True Positives:  45194\n"
     ]
    }
   ],
   "source": [
    "tn, fp, fn, tp = metrics.confusion_matrix(finalTestDf['HeartDisease_No'], preds).ravel()\n",
    "print('True negatives: ', tn, '\\nFalse positives: ', fp, '\\nFalse negatives: ', fn, '\\nTrue Positives: ', tp)"
   ]
  },
  {
   "cell_type": "code",
   "execution_count": 40,
   "id": "416dfa95",
   "metadata": {},
   "outputs": [
    {
     "name": "stdout",
     "output_type": "stream",
     "text": [
      "              precision    recall  f1-score   support\n",
      "\n",
      "           0       0.23      0.71      0.34      5475\n",
      "           1       0.97      0.77      0.86     58484\n",
      "\n",
      "    accuracy                           0.77     63959\n",
      "   macro avg       0.60      0.74      0.60     63959\n",
      "weighted avg       0.90      0.77      0.81     63959\n",
      "\n"
     ]
    }
   ],
   "source": [
    "print(classification_report(finalTestDf['HeartDisease_No'], preds))"
   ]
  },
  {
   "cell_type": "code",
   "execution_count": 41,
   "id": "e63d4b81",
   "metadata": {},
   "outputs": [
    {
     "data": {
      "image/png": "[encoded data removed]",
      "text/plain": [
       "<Figure size 432x288 with 2 Axes>"
      ]
     },
     "metadata": {
      "needs_background": "light"
     },
     "output_type": "display_data"
    }
   ],
   "source": [
    "from sklearn import metrics\n",
    "confusion_matrix = metrics.confusion_matrix(finalTestDf['HeartDisease_No'], preds)\n",
    "cm_display = metrics.ConfusionMatrixDisplay(confusion_matrix = confusion_matrix, display_labels = [False, True])\n",
    "cm_display.plot()\n",
    "plt.show()"
   ]
  },
  {
   "cell_type": "code",
   "execution_count": 42,
   "id": "cbba655f",
   "metadata": {},
   "outputs": [
    {
     "name": "stderr",
     "output_type": "stream",
     "text": [
      "C:\\Users\\chemb\\anaconda3\\lib\\site-packages\\deepchecks\\__init__.py:136: DeprecationWarning:\n",
      "\n",
      "Ability to import base tabular functionality from the `deepchecks` package directly is deprecated, please import from `deepchecks.tabular` instead\n",
      "\n",
      "deepchecks - WARNING - It is recommended to initialize Dataset with categorical features by doing \"Dataset(df, cat_features=categorical_list)\". No categorical features were passed, therefore heuristically inferring categorical features in the data. 0 categorical features were inferred.\n",
      "WARNING:deepchecks:It is recommended to initialize Dataset with categorical features by doing \"Dataset(df, cat_features=categorical_list)\". No categorical features were passed, therefore heuristically inferring categorical features in the data. 0 categorical features were inferred.\n"
     ]
    },
    {
     "data": {
      "application/vnd.jupyter.widget-view+json": {
       "model_id": "88354c4238254dd68c2ea8c93e2a10c6",
       "version_major": 2,
       "version_minor": 0
      },
      "text/plain": [
       "VBox(children=(HTML(value='<h4><b>ROC Report</b></h4>'), HTML(value='<p>Calculate the ROC curve for each class…"
      ]
     },
     "metadata": {},
     "output_type": "display_data"
    }
   ],
   "source": [
    "from deepchecks.checks import RocReport\n",
    "from deepchecks import Dataset\n",
    "\n",
    "RocReport().run(Dataset(finalTestDf, label='HeartDisease_No'), my_log_reg)"
   ]
  },
  {
   "cell_type": "markdown",
   "id": "26e8f1e7",
   "metadata": {},
   "source": [
    "# Logistic Regression with Scaling + SMOTE + LDA"
   ]
  },
  {
   "cell_type": "code",
   "execution_count": 43,
   "id": "bac27bc8",
   "metadata": {},
   "outputs": [
    {
     "name": "stderr",
     "output_type": "stream",
     "text": [
      "C:\\Users\\chemb\\anaconda3\\lib\\site-packages\\sklearn\\utils\\validation.py:993: DataConversionWarning:\n",
      "\n",
      "A column-vector y was passed when a 1d array was expected. Please change the shape of y to (n_samples, ), for example using ravel().\n",
      "\n"
     ]
    },
    {
     "name": "stdout",
     "output_type": "stream",
     "text": [
      "(467876, 1)\n",
      "(63959, 1)\n",
      "Wall time: 3.7 s\n"
     ]
    }
   ],
   "source": [
    "%%time\n",
    "features = ['BMI', 'PhysicalHealth', 'MentalHealth', 'AgeCategory_0', 'AgeCategory_1', 'AgeCategory_2', 'AgeCategory_3', 'Race_0', 'Race_1', 'Race_2', 'GenHealth_0', 'GenHealth_1', 'GenHealth_2', 'SleepTime', 'Smoking_No', 'AlcoholDrinking_No', 'Stroke_No', 'DiffWalking_No', 'Sex_Female', 'Diabetic_No', 'KidneyDisease_No', 'SkinCancer_No', 'PhysicalActivity_Yes', 'Asthma_No']\n",
    "\n",
    "X_train = pd.DataFrame(X_resampled)\n",
    "y_train = y_resampled.to_frame(name='HeartDisease_No')\n",
    "X_train.columns = features\n",
    "X_test = pd.DataFrame(test[features])\n",
    "\n",
    "lda = LDA(n_components=1)\n",
    "X_train = lda.fit_transform(X_train, y_train)\n",
    "reducedTrainData=pd.DataFrame(data=X_train, columns=['lda 1'])\n",
    "print(reducedTrainData.shape)\n",
    "\n",
    "X_test = lda.transform(X_test)\n",
    "reducedTestData=pd.DataFrame(data=X_test, columns=['lda 1'])\n",
    "print(reducedTestData.shape)\n",
    "\n",
    "tempDF1 = pd.concat([reducedTrainData, y_train], axis=1)\n",
    "tempDF1.to_csv(\"heart_cleaned_encoded_trained_lda.csv\")\n",
    "tempDF2 = pd.concat([reducedTestData, test[\"HeartDisease_No\"].to_frame(name='HeartDisease_No').reset_index(drop=True)], axis=1)\n",
    "tempDF2.to_csv(\"heart_cleaned_encoded_tested_lda.csv\")"
   ]
  },
  {
   "cell_type": "code",
   "execution_count": 44,
   "id": "f2e76ca7",
   "metadata": {},
   "outputs": [
    {
     "name": "stdout",
     "output_type": "stream",
     "text": [
      "(63959, 1)\n",
      "<class 'pandas.core.frame.DataFrame'>\n",
      "HeartDisease_No    0\n",
      "dtype: int64\n"
     ]
    }
   ],
   "source": [
    "print(reducedTestData.shape)\n",
    "print(type(test[\"HeartDisease_No\"].to_frame(name='HeartDisease_No')))\n",
    "print(test[\"HeartDisease_No\"].to_frame(name='HeartDisease_No').isnull().sum())"
   ]
  },
  {
   "cell_type": "code",
   "execution_count": 45,
   "id": "de617e88",
   "metadata": {},
   "outputs": [
    {
     "name": "stdout",
     "output_type": "stream",
     "text": [
      "Wall time: 46.9 ms\n"
     ]
    },
    {
     "name": "stderr",
     "output_type": "stream",
     "text": [
      "C:\\Users\\chemb\\anaconda3\\lib\\site-packages\\sklearn\\utils\\validation.py:993: DataConversionWarning:\n",
      "\n",
      "A column-vector y was passed when a 1d array was expected. Please change the shape of y to (n_samples, ), for example using ravel().\n",
      "\n"
     ]
    },
    {
     "data": {
      "text/plain": [
       "LogisticRegression()"
      ]
     },
     "execution_count": 45,
     "metadata": {},
     "output_type": "execute_result"
    }
   ],
   "source": [
    "%%time\n",
    "features = ['lda 1']\n",
    "\n",
    "# Instantiate the Logistic Regression with only default settings\n",
    "my_log_reg = LogisticRegression()\n",
    "\n",
    "# Fit the logistic regression on the independent variables of the train data with buy as dependent variable\n",
    "my_log_reg.fit(X_train, y_train)"
   ]
  },
  {
   "cell_type": "code",
   "execution_count": 46,
   "id": "e76edaa2",
   "metadata": {},
   "outputs": [],
   "source": [
    "# Make a prediction using our model on the test set\n",
    "preds = my_log_reg.predict(X_test)"
   ]
  },
  {
   "cell_type": "code",
   "execution_count": 47,
   "id": "70abc219",
   "metadata": {},
   "outputs": [],
   "source": [
    "pkl.dump(my_log_reg, open('model_lr_lda.pkl', 'wb'))"
   ]
  },
  {
   "cell_type": "code",
   "execution_count": 48,
   "id": "51e06bff",
   "metadata": {},
   "outputs": [
    {
     "name": "stdout",
     "output_type": "stream",
     "text": [
      "True negatives:  4181 \n",
      "False positives:  1294 \n",
      "False negatives:  14443 \n",
      "True Positives:  44041\n"
     ]
    }
   ],
   "source": [
    "tn, fp, fn, tp = metrics.confusion_matrix(tempDF2[\"HeartDisease_No\"], preds).ravel()\n",
    "print('True negatives: ', tn, '\\nFalse positives: ', fp, '\\nFalse negatives: ', fn, '\\nTrue Positives: ', tp)"
   ]
  },
  {
   "cell_type": "code",
   "execution_count": 49,
   "id": "88edd6fb",
   "metadata": {},
   "outputs": [
    {
     "name": "stdout",
     "output_type": "stream",
     "text": [
      "              precision    recall  f1-score   support\n",
      "\n",
      "           0       0.22      0.76      0.35      5475\n",
      "           1       0.97      0.75      0.85     58484\n",
      "\n",
      "    accuracy                           0.75     63959\n",
      "   macro avg       0.60      0.76      0.60     63959\n",
      "weighted avg       0.91      0.75      0.81     63959\n",
      "\n"
     ]
    }
   ],
   "source": [
    "print(classification_report(tempDF2[\"HeartDisease_No\"], preds))"
   ]
  },
  {
   "cell_type": "code",
   "execution_count": 50,
   "id": "59dff00d",
   "metadata": {},
   "outputs": [
    {
     "data": {
      "image/png": "[encoded data removed]",
      "text/plain": [
       "<Figure size 432x288 with 2 Axes>"
      ]
     },
     "metadata": {
      "needs_background": "light"
     },
     "output_type": "display_data"
    }
   ],
   "source": [
    "from sklearn import metrics\n",
    "confusion_matrix = metrics.confusion_matrix(tempDF2['HeartDisease_No'], preds)\n",
    "cm_display = metrics.ConfusionMatrixDisplay(confusion_matrix = confusion_matrix, display_labels = [False, True])\n",
    "cm_display.plot()\n",
    "plt.show()"
   ]
  },
  {
   "cell_type": "code",
   "execution_count": 51,
   "id": "883f702c",
   "metadata": {},
   "outputs": [
    {
     "name": "stderr",
     "output_type": "stream",
     "text": [
      "C:\\Users\\chemb\\anaconda3\\lib\\site-packages\\deepchecks\\__init__.py:136: DeprecationWarning:\n",
      "\n",
      "Ability to import base tabular functionality from the `deepchecks` package directly is deprecated, please import from `deepchecks.tabular` instead\n",
      "\n",
      "deepchecks - WARNING - It is recommended to initialize Dataset with categorical features by doing \"Dataset(df, cat_features=categorical_list)\". No categorical features were passed, therefore heuristically inferring categorical features in the data. 0 categorical features were inferred.\n",
      "WARNING:deepchecks:It is recommended to initialize Dataset with categorical features by doing \"Dataset(df, cat_features=categorical_list)\". No categorical features were passed, therefore heuristically inferring categorical features in the data. 0 categorical features were inferred.\n",
      "C:\\Users\\chemb\\anaconda3\\lib\\site-packages\\sklearn\\base.py:443: UserWarning:\n",
      "\n",
      "X has feature names, but LogisticRegression was fitted without feature names\n",
      "\n",
      "C:\\Users\\chemb\\anaconda3\\lib\\site-packages\\sklearn\\base.py:443: UserWarning:\n",
      "\n",
      "X has feature names, but LogisticRegression was fitted without feature names\n",
      "\n",
      "C:\\Users\\chemb\\anaconda3\\lib\\site-packages\\sklearn\\base.py:443: UserWarning:\n",
      "\n",
      "X has feature names, but LogisticRegression was fitted without feature names\n",
      "\n"
     ]
    },
    {
     "data": {
      "application/vnd.jupyter.widget-view+json": {
       "model_id": "158473f134ba4a84aa15940682160f0d",
       "version_major": 2,
       "version_minor": 0
      },
      "text/plain": [
       "VBox(children=(HTML(value='<h4><b>ROC Report</b></h4>'), HTML(value='<p>Calculate the ROC curve for each class…"
      ]
     },
     "metadata": {},
     "output_type": "display_data"
    }
   ],
   "source": [
    "from deepchecks.checks import RocReport\n",
    "from deepchecks import Dataset\n",
    "\n",
    "RocReport().run(Dataset(tempDF2, label='HeartDisease_No'), my_log_reg)"
   ]
  }
 ],
 "metadata": {
  "kernelspec": {
   "display_name": "Python 3 (ipykernel)",
   "language": "python",
   "name": "python3"
  },
  "language_info": {
   "codemirror_mode": {
    "name": "ipython",
    "version": 3
   },
   "file_extension": ".py",
   "mimetype": "text/x-python",
   "name": "python",
   "nbconvert_exporter": "python",
   "pygments_lexer": "ipython3",
   "version": "3.9.7"
  },
  "vscode": {
   "interpreter": {
    "hash": "31c5a5a673828ca33c0b5d17b8e82ce375b08be8c57c158ad0611b17191b8b5d"
   }
  }
 },
 "nbformat": 4,
 "nbformat_minor": 5
}
