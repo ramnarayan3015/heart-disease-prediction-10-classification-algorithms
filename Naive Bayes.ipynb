{
 "cells": [
  {
   "cell_type": "code",
   "execution_count": 1,
   "id": "2c24361a",
   "metadata": {},
   "outputs": [],
   "source": [
    "import numpy as np\n",
    "import pandas as pd\n",
    "import pickle as pkl\n",
    "import seaborn as sns\n",
    "import sweetviz as sv\n",
    "import category_encoders as ce\n",
    "import matplotlib.pyplot as plt\n",
    "from collections import Counter\n",
    "from sklearn import preprocessing\n",
    "from sklearn.decomposition import PCA\n",
    "from imblearn.over_sampling import SMOTE\n",
    "from sklearn.decomposition import FastICA\n",
    "from sklearn.naive_bayes import GaussianNB\n",
    "from pandas_profiling import ProfileReport\n",
    "from sklearn.metrics import confusion_matrix\n",
    "from sklearn.preprocessing import StandardScaler\n",
    "from feature_engine.encoding import OneHotEncoder\n",
    "from sklearn.metrics import classification_report\n",
    "from sklearn.linear_model import LogisticRegression\n",
    "from sklearn.model_selection import train_test_split\n",
    "from sklearn.discriminant_analysis import LinearDiscriminantAnalysis as LDA"
   ]
  },
  {
   "cell_type": "code",
   "execution_count": 2,
   "id": "e99b38f3",
   "metadata": {},
   "outputs": [],
   "source": [
    "pd.set_option('display.max_columns', None)\n",
    "pd.set_option('display.max_rows', None)"
   ]
  },
  {
   "cell_type": "code",
   "execution_count": 3,
   "id": "f3297528",
   "metadata": {},
   "outputs": [],
   "source": [
    "heart_dis_pred = pd.read_csv(\"heart_cleaned_encoded_smote.csv\")"
   ]
  },
  {
   "cell_type": "code",
   "execution_count": 4,
   "id": "3d961766",
   "metadata": {},
   "outputs": [],
   "source": [
    "predictors = heart_dis_pred.drop(\"HeartDisease_No\",axis=1)\n",
    "target = heart_dis_pred[\"HeartDisease_No\"]\n",
    "\n",
    "X_train,X_test,Y_train,Y_test = train_test_split(predictors,target,test_size=0.20,random_state=0)"
   ]
  },
  {
   "cell_type": "markdown",
   "id": "0f561218",
   "metadata": {},
   "source": [
    "# Naive Bayes with Scaling + SMOTE"
   ]
  },
  {
   "cell_type": "code",
   "execution_count": 5,
   "id": "d92b6a6f",
   "metadata": {},
   "outputs": [
    {
     "name": "stdout",
     "output_type": "stream",
     "text": [
      "Wall time: 311 ms\n"
     ]
    },
    {
     "data": {
      "text/plain": [
       "GaussianNB()"
      ]
     },
     "execution_count": 5,
     "metadata": {},
     "output_type": "execute_result"
    }
   ],
   "source": [
    "%%time\n",
    "nb = GaussianNB()\n",
    "nb.fit(X_train,Y_train)"
   ]
  },
  {
   "cell_type": "code",
   "execution_count": 6,
   "id": "79a0e1f5",
   "metadata": {},
   "outputs": [],
   "source": [
    "Y_pred_nb = nb.predict(X_test)"
   ]
  },
  {
   "cell_type": "code",
   "execution_count": 7,
   "id": "b83aaebb",
   "metadata": {},
   "outputs": [],
   "source": [
    "pkl.dump(nb, open('model_nb.pkl', 'wb'))"
   ]
  },
  {
   "cell_type": "code",
   "execution_count": 8,
   "id": "ad0afe02",
   "metadata": {},
   "outputs": [
    {
     "name": "stdout",
     "output_type": "stream",
     "text": [
      "True negatives:  42708 \n",
      "False positives:  4032 \n",
      "False negatives:  3155 \n",
      "True Positives:  43681\n"
     ]
    }
   ],
   "source": [
    "yTest = Y_test.to_frame(name = \"HeartDisease_No\")\n",
    "tn, fp, fn, tp = confusion_matrix(yTest, Y_pred_nb).ravel()\n",
    "print('True negatives: ', tn, '\\nFalse positives: ', fp, '\\nFalse negatives: ', fn, '\\nTrue Positives: ', tp)"
   ]
  },
  {
   "cell_type": "code",
   "execution_count": 9,
   "id": "e1736c45",
   "metadata": {},
   "outputs": [
    {
     "name": "stdout",
     "output_type": "stream",
     "text": [
      "              precision    recall  f1-score   support\n",
      "\n",
      "           0       0.93      0.91      0.92     46740\n",
      "           1       0.92      0.93      0.92     46836\n",
      "\n",
      "    accuracy                           0.92     93576\n",
      "   macro avg       0.92      0.92      0.92     93576\n",
      "weighted avg       0.92      0.92      0.92     93576\n",
      "\n"
     ]
    }
   ],
   "source": [
    "print(classification_report(yTest, Y_pred_nb))"
   ]
  },
  {
   "cell_type": "code",
   "execution_count": 10,
   "id": "a29a52cd",
   "metadata": {},
   "outputs": [],
   "source": [
    "test = pd.concat([X_test, Y_test], axis=1)"
   ]
  },
  {
   "cell_type": "code",
   "execution_count": 11,
   "id": "0d20f718",
   "metadata": {},
   "outputs": [
    {
     "data": {
      "image/png": "[encoded data removed]",
      "text/plain": [
       "<Figure size 432x288 with 2 Axes>"
      ]
     },
     "metadata": {
      "needs_background": "light"
     },
     "output_type": "display_data"
    }
   ],
   "source": [
    "from sklearn import metrics\n",
    "confusion_matrix = metrics.confusion_matrix(yTest['HeartDisease_No'], Y_pred_nb)\n",
    "cm_display = metrics.ConfusionMatrixDisplay(confusion_matrix = confusion_matrix, display_labels = [False, True])\n",
    "cm_display.plot()\n",
    "plt.show()"
   ]
  },
  {
   "cell_type": "code",
   "execution_count": 21,
   "id": "ce6df42b",
   "metadata": {},
   "outputs": [
    {
     "name": "stderr",
     "output_type": "stream",
     "text": [
      "C:\\Users\\chemb\\anaconda3\\lib\\site-packages\\deepchecks\\__init__.py:136: DeprecationWarning:\n",
      "\n",
      "Ability to import base tabular functionality from the `deepchecks` package directly is deprecated, please import from `deepchecks.tabular` instead\n",
      "\n",
      "deepchecks - WARNING - It is recommended to initialize Dataset with categorical features by doing \"Dataset(df, cat_features=categorical_list)\". No categorical features were passed, therefore heuristically inferring categorical features in the data. 0 categorical features were inferred.\n"
     ]
    },
    {
     "data": {
      "application/vnd.jupyter.widget-view+json": {
       "model_id": "b8f7b5f7793a4ca1a3341691b049c726",
       "version_major": 2,
       "version_minor": 0
      },
      "text/plain": [
       "VBox(children=(HTML(value='<h4><b>ROC Report</b></h4>'), HTML(value='<p>Calculate the ROC curve for each class…"
      ]
     },
     "metadata": {},
     "output_type": "display_data"
    }
   ],
   "source": [
    "from deepchecks.checks import RocReport\n",
    "from deepchecks import Dataset\n",
    "\n",
    "RocReport().run(Dataset(test, label='HeartDisease_No'), nb)"
   ]
  },
  {
   "cell_type": "code",
   "execution_count": 12,
   "id": "07ffd911",
   "metadata": {},
   "outputs": [
    {
     "name": "stderr",
     "output_type": "stream",
     "text": [
      "C:\\Users\\chemb\\anaconda3\\lib\\site-packages\\deepchecks\\__init__.py:136: DeprecationWarning:\n",
      "\n",
      "Ability to import base tabular functionality from the `deepchecks` package directly is deprecated, please import from `deepchecks.tabular` instead\n",
      "\n"
     ]
    }
   ],
   "source": [
    "from deepchecks.tabular.suites import full_suite\n",
    "from deepchecks import Dataset\n",
    "\n",
    "tempDf = pd.concat([X_train, Y_train], axis=1)\n",
    "train_ds1 = Dataset(tempDf, label=\"HeartDisease_No\", cat_features=[])\n",
    "test_ds1 = Dataset(test, label=\"HeartDisease_No\", cat_features=[])"
   ]
  },
  {
   "cell_type": "code",
   "execution_count": 14,
   "id": "6df2c826",
   "metadata": {},
   "outputs": [
    {
     "data": {
      "text/html": [
       "\n",
       "    <style>\n",
       "        progress {\n",
       "            -webkit-appearance: none;\n",
       "            border: none;\n",
       "            border-radius: 3px;\n",
       "            width: 300px;\n",
       "            height: 20px;\n",
       "            vertical-align: middle;\n",
       "            margin-right: 10px;\n",
       "            background-color: aliceblue;\n",
       "        }\n",
       "        progress::-webkit-progress-bar {\n",
       "            border-radius: 3px;\n",
       "            background-color: aliceblue;\n",
       "        }\n",
       "        progress::-webkit-progress-value {\n",
       "            background-color: #9d60fb;\n",
       "        }\n",
       "        progress::-moz-progress-bar {\n",
       "            background-color: #9d60fb;\n",
       "        }\n",
       "    </style>\n",
       "    "
      ]
     },
     "metadata": {},
     "output_type": "display_data"
    },
    {
     "data": {
      "text/html": []
     },
     "metadata": {},
     "output_type": "display_data"
    },
    {
     "name": "stderr",
     "output_type": "stream",
     "text": [
      "deepchecks - WARNING - Could not find built-in feature importance on the model, using permutation feature importance calculation instead\n",
      "deepchecks - INFO - Calculating permutation feature importance. Expected to finish in 18 seconds\n"
     ]
    },
    {
     "data": {
      "text/plain": [
       "'Full Suite (1).html'"
      ]
     },
     "execution_count": 14,
     "metadata": {},
     "output_type": "execute_result"
    }
   ],
   "source": [
    "suite = full_suite()\n",
    "result = suite.run(train_ds1, test_ds1, nb)\n",
    "result.save_as_html(\"Full Suite\")"
   ]
  },
  {
   "cell_type": "code",
   "execution_count": 15,
   "id": "cffe519e",
   "metadata": {},
   "outputs": [],
   "source": [
    "X_resampled = X_train.head(1000)\n",
    "y_resampled = Y_train.head(1000)\n",
    "tempDf = pd.concat([X_resampled, y_resampled], axis=1)\n",
    "train_ds1 = Dataset(tempDf, label=\"HeartDisease_No\", cat_features=[])\n",
    "test_ds1 = Dataset(test, label=\"HeartDisease_No\", cat_features=[])"
   ]
  },
  {
   "cell_type": "code",
   "execution_count": 16,
   "id": "193e7f10",
   "metadata": {},
   "outputs": [
    {
     "data": {
      "text/plain": [
       "GaussianNB()"
      ]
     },
     "execution_count": 16,
     "metadata": {},
     "output_type": "execute_result"
    }
   ],
   "source": [
    "nb = GaussianNB()\n",
    "nb.fit(X_train,Y_train)"
   ]
  },
  {
   "cell_type": "code",
   "execution_count": 18,
   "id": "18d67f55",
   "metadata": {},
   "outputs": [
    {
     "data": {
      "text/html": [
       "\n",
       "    <style>\n",
       "        progress {\n",
       "            -webkit-appearance: none;\n",
       "            border: none;\n",
       "            border-radius: 3px;\n",
       "            width: 300px;\n",
       "            height: 20px;\n",
       "            vertical-align: middle;\n",
       "            margin-right: 10px;\n",
       "            background-color: aliceblue;\n",
       "        }\n",
       "        progress::-webkit-progress-bar {\n",
       "            border-radius: 3px;\n",
       "            background-color: aliceblue;\n",
       "        }\n",
       "        progress::-webkit-progress-value {\n",
       "            background-color: #9d60fb;\n",
       "        }\n",
       "        progress::-moz-progress-bar {\n",
       "            background-color: #9d60fb;\n",
       "        }\n",
       "    </style>\n",
       "    "
      ]
     },
     "metadata": {},
     "output_type": "display_data"
    },
    {
     "data": {
      "text/html": []
     },
     "metadata": {},
     "output_type": "display_data"
    },
    {
     "name": "stderr",
     "output_type": "stream",
     "text": [
      "deepchecks - WARNING - Could not find built-in feature importance on the model, using permutation feature importance calculation instead\n",
      "deepchecks - INFO - Calculating permutation feature importance. Expected to finish in 17 seconds\n"
     ]
    },
    {
     "data": {
      "text/plain": [
       "'Full_Suite_nb_1000.html'"
      ]
     },
     "execution_count": 18,
     "metadata": {},
     "output_type": "execute_result"
    }
   ],
   "source": [
    "suite = full_suite()\n",
    "result = suite.run(train_dataset=train_ds1, test_dataset=test_ds1, model=nb)\n",
    "result.save_as_html(\"Full_Suite_nb_1000\")"
   ]
  },
  {
   "cell_type": "markdown",
   "id": "2e5d8876",
   "metadata": {},
   "source": [
    "# Naive Bayes with Scaling + SMOTE + PCA"
   ]
  },
  {
   "cell_type": "code",
   "execution_count": 23,
   "id": "75161ee7",
   "metadata": {},
   "outputs": [],
   "source": [
    "heart_dis_train_pred = pd.read_csv(\"heart_cleaned_encoded_trained_pca.csv\")\n",
    "heart_dis_test_pred = pd.read_csv(\"heart_cleaned_encoded_tested_pca.csv\")"
   ]
  },
  {
   "cell_type": "code",
   "execution_count": 31,
   "id": "3ac67172",
   "metadata": {},
   "outputs": [
    {
     "name": "stdout",
     "output_type": "stream",
     "text": [
      "Wall time: 281 ms\n"
     ]
    },
    {
     "data": {
      "text/plain": [
       "GaussianNB()"
      ]
     },
     "execution_count": 31,
     "metadata": {},
     "output_type": "execute_result"
    }
   ],
   "source": [
    "%%time\n",
    "features = ['principal component 1','principal component 2','principal component 3','principal component 4','principal component 5','principal component 6','principal component 7','principal component 8','principal component 9','principal component 10','principal component 11','principal component 12','principal component 13','principal component 14','principal component 15','principal component 16','principal component 17','principal component 18','principal component 19','principal component 20']\n",
    "nb = GaussianNB()\n",
    "nb.fit(heart_dis_train_pred[features],heart_dis_train_pred[\"HeartDisease_No\"])"
   ]
  },
  {
   "cell_type": "code",
   "execution_count": 32,
   "id": "38a11012",
   "metadata": {},
   "outputs": [],
   "source": [
    "Y_pred_nb = nb.predict(heart_dis_test_pred[features])"
   ]
  },
  {
   "cell_type": "code",
   "execution_count": 25,
   "id": "ed648fca",
   "metadata": {},
   "outputs": [],
   "source": [
    "pkl.dump(nb, open('model_nb_pca.pkl', 'wb'))"
   ]
  },
  {
   "cell_type": "code",
   "execution_count": 27,
   "id": "785e4fb8",
   "metadata": {},
   "outputs": [
    {
     "name": "stdout",
     "output_type": "stream",
     "text": [
      "True negatives:  3151 \n",
      "False positives:  2324 \n",
      "False negatives:  10237 \n",
      "True Positives:  48247\n"
     ]
    }
   ],
   "source": [
    "tn, fp, fn, tp = metrics.confusion_matrix(heart_dis_test_pred[\"HeartDisease_No\"], Y_pred_nb).ravel()\n",
    "print('True negatives: ', tn, '\\nFalse positives: ', fp, '\\nFalse negatives: ', fn, '\\nTrue Positives: ', tp)"
   ]
  },
  {
   "cell_type": "code",
   "execution_count": 28,
   "id": "08d402ac",
   "metadata": {},
   "outputs": [
    {
     "name": "stdout",
     "output_type": "stream",
     "text": [
      "              precision    recall  f1-score   support\n",
      "\n",
      "           0       0.24      0.58      0.33      5475\n",
      "           1       0.95      0.82      0.88     58484\n",
      "\n",
      "    accuracy                           0.80     63959\n",
      "   macro avg       0.59      0.70      0.61     63959\n",
      "weighted avg       0.89      0.80      0.84     63959\n",
      "\n"
     ]
    }
   ],
   "source": [
    "print(classification_report(heart_dis_test_pred[\"HeartDisease_No\"], Y_pred_nb))"
   ]
  },
  {
   "cell_type": "code",
   "execution_count": 29,
   "id": "96bd80d5",
   "metadata": {},
   "outputs": [
    {
     "data": {
      "image/png": "[encoded data removed]",
      "text/plain": [
       "<Figure size 432x288 with 2 Axes>"
      ]
     },
     "metadata": {
      "needs_background": "light"
     },
     "output_type": "display_data"
    }
   ],
   "source": [
    "from sklearn import metrics\n",
    "confusion_matrix = metrics.confusion_matrix(heart_dis_test_pred[\"HeartDisease_No\"], Y_pred_nb)\n",
    "cm_display = metrics.ConfusionMatrixDisplay(confusion_matrix = confusion_matrix, display_labels = [False, True])\n",
    "cm_display.plot()\n",
    "plt.show()"
   ]
  },
  {
   "cell_type": "code",
   "execution_count": 38,
   "id": "2aa6b910",
   "metadata": {},
   "outputs": [],
   "source": [
    "heart_dis_test_pred = heart_dis_test_pred.loc[:, ~heart_dis_test_pred.columns.str.contains('^Unnamed')]"
   ]
  },
  {
   "cell_type": "code",
   "execution_count": 39,
   "id": "b40b9e1c",
   "metadata": {},
   "outputs": [
    {
     "name": "stderr",
     "output_type": "stream",
     "text": [
      "C:\\Users\\chemb\\anaconda3\\lib\\site-packages\\deepchecks\\__init__.py:136: DeprecationWarning:\n",
      "\n",
      "Ability to import base tabular functionality from the `deepchecks` package directly is deprecated, please import from `deepchecks.tabular` instead\n",
      "\n",
      "deepchecks - WARNING - It is recommended to initialize Dataset with categorical features by doing \"Dataset(df, cat_features=categorical_list)\". No categorical features were passed, therefore heuristically inferring categorical features in the data. 0 categorical features were inferred.\n"
     ]
    },
    {
     "data": {
      "application/vnd.jupyter.widget-view+json": {
       "model_id": "43bfd0a457b346dc9b06df11b2685b80",
       "version_major": 2,
       "version_minor": 0
      },
      "text/plain": [
       "VBox(children=(HTML(value='<h4><b>ROC Report</b></h4>'), HTML(value='<p>Calculate the ROC curve for each class…"
      ]
     },
     "metadata": {},
     "output_type": "display_data"
    }
   ],
   "source": [
    "from deepchecks.checks import RocReport\n",
    "from deepchecks import Dataset\n",
    "\n",
    "RocReport().run(Dataset(heart_dis_test_pred, label='HeartDisease_No'), nb)"
   ]
  },
  {
   "cell_type": "markdown",
   "id": "9143d91e",
   "metadata": {},
   "source": [
    "# Naive Bayes with Scaling + SMOTE + ICA"
   ]
  },
  {
   "cell_type": "code",
   "execution_count": 40,
   "id": "c9d278db",
   "metadata": {},
   "outputs": [],
   "source": [
    "heart_dis_train_pred = pd.read_csv(\"heart_cleaned_encoded_trained_ica.csv\")\n",
    "heart_dis_test_pred = pd.read_csv(\"heart_cleaned_encoded_tested_ica.csv\")"
   ]
  },
  {
   "cell_type": "code",
   "execution_count": 49,
   "id": "16a16541",
   "metadata": {},
   "outputs": [
    {
     "name": "stdout",
     "output_type": "stream",
     "text": [
      "Wall time: 241 ms\n"
     ]
    },
    {
     "data": {
      "text/plain": [
       "GaussianNB()"
      ]
     },
     "execution_count": 49,
     "metadata": {},
     "output_type": "execute_result"
    }
   ],
   "source": [
    "%%time\n",
    "features = ['independent component 1','independent component 2','independent component 3','independent component 4','independent component 5','independent component 6','independent component 7','independent component 8','independent component 9','independent component 10','independent component 11','independent component 12','independent component 13','independent component 14','independent component 15','independent component 16','independent component 17','independent component 18','independent component 19','independent component 20']\n",
    "nb = GaussianNB()\n",
    "nb.fit(heart_dis_train_pred[features],heart_dis_train_pred[\"HeartDisease_No\"])"
   ]
  },
  {
   "cell_type": "code",
   "execution_count": 50,
   "id": "12326c72",
   "metadata": {},
   "outputs": [],
   "source": [
    "Y_pred_nb = nb.predict(heart_dis_test_pred[features])"
   ]
  },
  {
   "cell_type": "code",
   "execution_count": 42,
   "id": "87cb60b2",
   "metadata": {},
   "outputs": [],
   "source": [
    "pkl.dump(nb, open('model_nb_ica.pkl', 'wb'))"
   ]
  },
  {
   "cell_type": "code",
   "execution_count": 48,
   "id": "d8f54fb3",
   "metadata": {},
   "outputs": [
    {
     "name": "stdout",
     "output_type": "stream",
     "text": [
      "True negatives:  3384 \n",
      "False positives:  2091 \n",
      "False negatives:  11301 \n",
      "True Positives:  47183\n"
     ]
    }
   ],
   "source": [
    "tn, fp, fn, tp = metrics.confusion_matrix(heart_dis_test_pred[\"HeartDisease_No\"], Y_pred_nb).ravel()\n",
    "print('True negatives: ', tn, '\\nFalse positives: ', fp, '\\nFalse negatives: ', fn, '\\nTrue Positives: ', tp)"
   ]
  },
  {
   "cell_type": "code",
   "execution_count": 44,
   "id": "bc21c633",
   "metadata": {},
   "outputs": [
    {
     "name": "stdout",
     "output_type": "stream",
     "text": [
      "              precision    recall  f1-score   support\n",
      "\n",
      "           0       0.23      0.62      0.34      5475\n",
      "           1       0.96      0.81      0.88     58484\n",
      "\n",
      "    accuracy                           0.79     63959\n",
      "   macro avg       0.59      0.71      0.61     63959\n",
      "weighted avg       0.90      0.79      0.83     63959\n",
      "\n"
     ]
    }
   ],
   "source": [
    "print(classification_report(heart_dis_test_pred[\"HeartDisease_No\"], Y_pred_nb))"
   ]
  },
  {
   "cell_type": "code",
   "execution_count": 45,
   "id": "b3bf3025",
   "metadata": {},
   "outputs": [
    {
     "data": {
      "image/png": "[encoded data removed]",
      "text/plain": [
       "<Figure size 432x288 with 2 Axes>"
      ]
     },
     "metadata": {
      "needs_background": "light"
     },
     "output_type": "display_data"
    }
   ],
   "source": [
    "from sklearn import metrics\n",
    "confusion_matrix = metrics.confusion_matrix(heart_dis_test_pred[\"HeartDisease_No\"], Y_pred_nb)\n",
    "cm_display = metrics.ConfusionMatrixDisplay(confusion_matrix = confusion_matrix, display_labels = [False, True])\n",
    "cm_display.plot()\n",
    "plt.show()"
   ]
  },
  {
   "cell_type": "code",
   "execution_count": 46,
   "id": "e11e9297",
   "metadata": {},
   "outputs": [],
   "source": [
    "heart_dis_test_pred = heart_dis_test_pred.loc[:, ~heart_dis_test_pred.columns.str.contains('^Unnamed')]"
   ]
  },
  {
   "cell_type": "code",
   "execution_count": 47,
   "id": "954c92b8",
   "metadata": {},
   "outputs": [
    {
     "name": "stderr",
     "output_type": "stream",
     "text": [
      "C:\\Users\\chemb\\anaconda3\\lib\\site-packages\\deepchecks\\__init__.py:136: DeprecationWarning:\n",
      "\n",
      "Ability to import base tabular functionality from the `deepchecks` package directly is deprecated, please import from `deepchecks.tabular` instead\n",
      "\n",
      "deepchecks - WARNING - It is recommended to initialize Dataset with categorical features by doing \"Dataset(df, cat_features=categorical_list)\". No categorical features were passed, therefore heuristically inferring categorical features in the data. 0 categorical features were inferred.\n"
     ]
    },
    {
     "data": {
      "application/vnd.jupyter.widget-view+json": {
       "model_id": "be45722faae84dee83c6a04ddf0e2117",
       "version_major": 2,
       "version_minor": 0
      },
      "text/plain": [
       "VBox(children=(HTML(value='<h4><b>ROC Report</b></h4>'), HTML(value='<p>Calculate the ROC curve for each class…"
      ]
     },
     "metadata": {},
     "output_type": "display_data"
    }
   ],
   "source": [
    "from deepchecks.checks import RocReport\n",
    "from deepchecks import Dataset\n",
    "\n",
    "RocReport().run(Dataset(heart_dis_test_pred, label='HeartDisease_No'), nb)"
   ]
  },
  {
   "cell_type": "markdown",
   "id": "ff469246",
   "metadata": {},
   "source": [
    "# Naive Bayes with Scaling + SMOTE + LDA"
   ]
  },
  {
   "cell_type": "code",
   "execution_count": 55,
   "id": "6f0e8f03",
   "metadata": {},
   "outputs": [],
   "source": [
    "heart_dis_train_pred = pd.read_csv(\"heart_cleaned_encoded_trained_lda.csv\")\n",
    "heart_dis_test_pred = pd.read_csv(\"heart_cleaned_encoded_tested_lda.csv\")"
   ]
  },
  {
   "cell_type": "code",
   "execution_count": 56,
   "id": "d53f648f",
   "metadata": {},
   "outputs": [
    {
     "name": "stdout",
     "output_type": "stream",
     "text": [
      "Wall time: 38.3 ms\n"
     ]
    },
    {
     "data": {
      "text/plain": [
       "GaussianNB()"
      ]
     },
     "execution_count": 56,
     "metadata": {},
     "output_type": "execute_result"
    }
   ],
   "source": [
    "%%time\n",
    "features = ['lda 1']\n",
    "nb = GaussianNB()\n",
    "nb.fit(heart_dis_train_pred[features],heart_dis_train_pred[\"HeartDisease_No\"])"
   ]
  },
  {
   "cell_type": "code",
   "execution_count": 57,
   "id": "3c1e8e3f",
   "metadata": {},
   "outputs": [],
   "source": [
    "Y_pred_nb = nb.predict(heart_dis_test_pred[features])"
   ]
  },
  {
   "cell_type": "code",
   "execution_count": 58,
   "id": "d86fb563",
   "metadata": {},
   "outputs": [],
   "source": [
    "pkl.dump(nb, open('model_nb_lda.pkl', 'wb'))"
   ]
  },
  {
   "cell_type": "code",
   "execution_count": 64,
   "id": "be4d2e50",
   "metadata": {},
   "outputs": [
    {
     "name": "stdout",
     "output_type": "stream",
     "text": [
      "True negatives:  4248 \n",
      "False positives:  1227 \n",
      "False negatives:  15152 \n",
      "True Positives:  43332\n"
     ]
    }
   ],
   "source": [
    "tn, fp, fn, tp = metrics.confusion_matrix(heart_dis_test_pred[\"HeartDisease_No\"], Y_pred_nb).ravel()\n",
    "print('True negatives: ', tn, '\\nFalse positives: ', fp, '\\nFalse negatives: ', fn, '\\nTrue Positives: ', tp)"
   ]
  },
  {
   "cell_type": "code",
   "execution_count": 60,
   "id": "7ba73195",
   "metadata": {},
   "outputs": [
    {
     "name": "stdout",
     "output_type": "stream",
     "text": [
      "              precision    recall  f1-score   support\n",
      "\n",
      "           0       0.22      0.78      0.34      5475\n",
      "           1       0.97      0.74      0.84     58484\n",
      "\n",
      "    accuracy                           0.74     63959\n",
      "   macro avg       0.60      0.76      0.59     63959\n",
      "weighted avg       0.91      0.74      0.80     63959\n",
      "\n"
     ]
    }
   ],
   "source": [
    "print(classification_report(heart_dis_test_pred[\"HeartDisease_No\"], Y_pred_nb))"
   ]
  },
  {
   "cell_type": "code",
   "execution_count": 61,
   "id": "2796f222",
   "metadata": {},
   "outputs": [
    {
     "data": {
      "image/png": "[encoded data removed]",
      "text/plain": [
       "<Figure size 432x288 with 2 Axes>"
      ]
     },
     "metadata": {
      "needs_background": "light"
     },
     "output_type": "display_data"
    }
   ],
   "source": [
    "from sklearn import metrics\n",
    "confusion_matrix = metrics.confusion_matrix(heart_dis_test_pred[\"HeartDisease_No\"], Y_pred_nb)\n",
    "cm_display = metrics.ConfusionMatrixDisplay(confusion_matrix = confusion_matrix, display_labels = [False, True])\n",
    "cm_display.plot()\n",
    "plt.show()"
   ]
  },
  {
   "cell_type": "code",
   "execution_count": 62,
   "id": "a6fd4b79",
   "metadata": {},
   "outputs": [],
   "source": [
    "heart_dis_test_pred = heart_dis_test_pred.loc[:, ~heart_dis_test_pred.columns.str.contains('^Unnamed')]"
   ]
  },
  {
   "cell_type": "code",
   "execution_count": 63,
   "id": "f408633a",
   "metadata": {},
   "outputs": [
    {
     "name": "stderr",
     "output_type": "stream",
     "text": [
      "C:\\Users\\chemb\\anaconda3\\lib\\site-packages\\deepchecks\\__init__.py:136: DeprecationWarning:\n",
      "\n",
      "Ability to import base tabular functionality from the `deepchecks` package directly is deprecated, please import from `deepchecks.tabular` instead\n",
      "\n",
      "deepchecks - WARNING - It is recommended to initialize Dataset with categorical features by doing \"Dataset(df, cat_features=categorical_list)\". No categorical features were passed, therefore heuristically inferring categorical features in the data. 0 categorical features were inferred.\n"
     ]
    },
    {
     "data": {
      "application/vnd.jupyter.widget-view+json": {
       "model_id": "7a40cf5dbd504fc7bcbdfcb5ae45d789",
       "version_major": 2,
       "version_minor": 0
      },
      "text/plain": [
       "VBox(children=(HTML(value='<h4><b>ROC Report</b></h4>'), HTML(value='<p>Calculate the ROC curve for each class…"
      ]
     },
     "metadata": {},
     "output_type": "display_data"
    }
   ],
   "source": [
    "from deepchecks.checks import RocReport\n",
    "from deepchecks import Dataset\n",
    "\n",
    "RocReport().run(Dataset(heart_dis_test_pred, label='HeartDisease_No'), nb)"
   ]
  }
 ],
 "metadata": {
  "kernelspec": {
   "display_name": "Python 3 (ipykernel)",
   "language": "python",
   "name": "python3"
  },
  "language_info": {
   "codemirror_mode": {
    "name": "ipython",
    "version": 3
   },
   "file_extension": ".py",
   "mimetype": "text/x-python",
   "name": "python",
   "nbconvert_exporter": "python",
   "pygments_lexer": "ipython3",
   "version": "3.9.7"
  },
  "vscode": {
   "interpreter": {
    "hash": "31c5a5a673828ca33c0b5d17b8e82ce375b08be8c57c158ad0611b17191b8b5d"
   }
  }
 },
 "nbformat": 4,
 "nbformat_minor": 5
}
