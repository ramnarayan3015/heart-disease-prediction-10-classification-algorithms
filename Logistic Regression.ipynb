{
 "cells": [
  {
   "cell_type": "code",
   "execution_count": 49,
   "id": "e51e8fac",
   "metadata": {},
   "outputs": [],
   "source": [
    "import numpy as np\n",
    "import pandas as pd\n",
    "import pickle as pkl\n",
    "import seaborn as sns\n",
    "import sweetviz as sv\n",
    "import category_encoders as ce\n",
    "import matplotlib.pyplot as plt\n",
    "from collections import Counter\n",
    "from sklearn import preprocessing\n",
    "from sklearn.decomposition import PCA\n",
    "from imblearn.over_sampling import SMOTE\n",
    "from sklearn.decomposition import FastICA\n",
    "from pandas_profiling import ProfileReport\n",
    "from sklearn.metrics import confusion_matrix\n",
    "from sklearn.preprocessing import StandardScaler\n",
    "from feature_engine.encoding import OneHotEncoder\n",
    "from sklearn.metrics import classification_report\n",
    "from sklearn.linear_model import LogisticRegression\n",
    "from sklearn.model_selection import train_test_split\n",
    "from sklearn.feature_selection import SelectFromModel\n",
    "from sklearn.discriminant_analysis import LinearDiscriminantAnalysis as LDA"
   ]
  },
  {
   "cell_type": "code",
   "execution_count": 50,
   "id": "e848df37",
   "metadata": {},
   "outputs": [],
   "source": [
    "pd.set_option('display.max_columns', None)\n",
    "pd.set_option('display.max_rows', None)"
   ]
  },
  {
   "cell_type": "code",
   "execution_count": 51,
   "id": "e33e37e4",
   "metadata": {},
   "outputs": [],
   "source": [
    "heart_dis_pred = pd.read_csv(\"heart_cleaned_encoded.csv\")"
   ]
  },
  {
   "cell_type": "code",
   "execution_count": 52,
   "id": "24b106d1",
   "metadata": {},
   "outputs": [],
   "source": [
    "features = ['BMI', 'PhysicalHealth', 'MentalHealth', 'AgeCategory_0', 'AgeCategory_1', 'AgeCategory_2', 'AgeCategory_3', 'Race_0', 'Race_1', 'Race_2', 'GenHealth_0', 'GenHealth_1', 'GenHealth_2', 'SleepTime', 'Smoking_No', 'AlcoholDrinking_No', 'Stroke_No', 'DiffWalking_No', 'Sex_Female', 'Diabetic_No', 'KidneyDisease_No', 'SkinCancer_No', 'PhysicalActivity_Yes', 'Asthma_No']\n",
    "# Separating out the features\n",
    "x = heart_dis_pred.loc[:, features].values\n",
    "# Separating out the target\n",
    "y = heart_dis_pred.loc[:,['HeartDisease_No']].values\n",
    "\n",
    "colors = ['red', 'green', 'blue', 'orange', 'yellow', 'indigo', 'violet', 'Pink', 'Purple', \n",
    "          'Turquoise', 'Gold', 'Lime', 'Maroon', 'Navy', 'Coral', 'Teal', 'Brown' ,'Black', 'Pink', 'rosybrown', 'Grey', 'darkkhaki'\n",
    "             , 'Silver', 'darkolivegreen', 'black']\n",
    "\n",
    "scaler = preprocessing.StandardScaler()\n",
    "standard_df = scaler.fit_transform(x)\n",
    "standard_df = pd.DataFrame(standard_df, columns = features)\n",
    "standard_df = pd.concat([standard_df, heart_dis_pred.loc[:,['HeartDisease_No']]], axis=1)\n",
    "\n",
    "# fig, ax1 = plt.subplots(ncols = 1, figsize =(20, 10))\n",
    "# for column, color in zip(features, colors):\n",
    "#     sns.kdeplot(standard_df[column], ax = ax1, color = color)\n",
    "# ax1.set_title('After Standard Scaling')\n",
    "# plt.show()"
   ]
  },
  {
   "cell_type": "code",
   "execution_count": 53,
   "id": "bc6d1b53",
   "metadata": {},
   "outputs": [],
   "source": [
    "heart_dis_pred = standard_df\n",
    "# print(heart_dis_pred.head(5))\n",
    "# print(heart_dis_pred.shape)"
   ]
  },
  {
   "cell_type": "code",
   "execution_count": 54,
   "id": "b9c9220c",
   "metadata": {},
   "outputs": [
    {
     "data": {
      "image/png": "[encoded data removed]",
      "text/plain": [
       "<Figure size 432x288 with 1 Axes>"
      ]
     },
     "metadata": {
      "needs_background": "light"
     },
     "output_type": "display_data"
    }
   ],
   "source": [
    "status_plot = sns.countplot(x ='HeartDisease_No', data = heart_dis_pred)"
   ]
  },
  {
   "cell_type": "code",
   "execution_count": 55,
   "id": "4de64ab4",
   "metadata": {},
   "outputs": [
    {
     "data": {
      "text/plain": [
       "<AxesSubplot:title={'center':'Verify that class distributuion in train is same as input data'}, xlabel='HeartDisease_No'>"
      ]
     },
     "execution_count": 55,
     "metadata": {},
     "output_type": "execute_result"
    },
    {
     "data": {
      "image/png": "[encoded data removed]",
      "text/plain": [
       "<Figure size 432x288 with 1 Axes>"
      ]
     },
     "metadata": {
      "needs_background": "light"
     },
     "output_type": "display_data"
    }
   ],
   "source": [
    "train, test = train_test_split(heart_dis_pred, test_size = 0.2, stratify=heart_dis_pred['HeartDisease_No'])\n",
    "train.pivot_table(index='HeartDisease_No', aggfunc='size').plot(kind='bar', title='Verify that class distributuion in train is same as input data')"
   ]
  },
  {
   "cell_type": "code",
   "execution_count": 56,
   "id": "a11c9e42",
   "metadata": {},
   "outputs": [
    {
     "data": {
      "text/plain": [
       "<AxesSubplot:title={'center':'Verify that class distributuion in test is same as input data'}, xlabel='HeartDisease_No'>"
      ]
     },
     "execution_count": 56,
     "metadata": {},
     "output_type": "execute_result"
    },
    {
     "data": {
      "image/png": "[encoded data removed]",
      "text/plain": [
       "<Figure size 432x288 with 1 Axes>"
      ]
     },
     "metadata": {
      "needs_background": "light"
     },
     "output_type": "display_data"
    }
   ],
   "source": [
    "test.pivot_table(index='HeartDisease_No', aggfunc='size').plot(kind='bar', title='Verify that class distributuion in test is same as input data')"
   ]
  },
  {
   "cell_type": "markdown",
   "id": "5c136f6a",
   "metadata": {},
   "source": [
    "# Logistic Regression with Scaling"
   ]
  },
  {
   "cell_type": "code",
   "execution_count": 57,
   "id": "9ac9fe93",
   "metadata": {},
   "outputs": [
    {
     "name": "stdout",
     "output_type": "stream",
     "text": [
      "Wall time: 1.63 s\n"
     ]
    },
    {
     "data": {
      "text/plain": [
       "LogisticRegression()"
      ]
     },
     "execution_count": 57,
     "metadata": {},
     "output_type": "execute_result"
    }
   ],
   "source": [
    "%%time\n",
    "# Instantiate the Logistic Regression with only default settings\n",
    "my_log_reg = LogisticRegression()\n",
    "\n",
    "# Fit the logistic regression on the independent variables of the train data with buy as dependent variable\n",
    "my_log_reg.fit(train[features], train['HeartDisease_No'])\n",
    "\n"
   ]
  },
  {
   "cell_type": "code",
   "execution_count": 58,
   "id": "dee574e5",
   "metadata": {},
   "outputs": [],
   "source": [
    "# Make a prediction using our model on the test set\n",
    "preds = my_log_reg.predict(test[features])"
   ]
  },
  {
   "cell_type": "code",
   "execution_count": 59,
   "id": "30a4143d",
   "metadata": {},
   "outputs": [],
   "source": [
    "pkl.dump(my_log_reg, open('model_lr.pkl', 'wb'))"
   ]
  },
  {
   "cell_type": "code",
   "execution_count": 60,
   "id": "c837468f",
   "metadata": {},
   "outputs": [
    {
     "name": "stdout",
     "output_type": "stream",
     "text": [
      "True negatives:  580 \n",
      "False positives:  4895 \n",
      "False negatives:  537 \n",
      "True Positives:  57947\n"
     ]
    }
   ],
   "source": [
    "tn, fp, fn, tp = confusion_matrix(test['HeartDisease_No'], preds).ravel()\n",
    "print('True negatives: ', tn, '\\nFalse positives: ', fp, '\\nFalse negatives: ', fn, '\\nTrue Positives: ', tp)"
   ]
  },
  {
   "cell_type": "code",
   "execution_count": 61,
   "id": "5bab2685",
   "metadata": {},
   "outputs": [
    {
     "name": "stdout",
     "output_type": "stream",
     "text": [
      "              precision    recall  f1-score   support\n",
      "\n",
      "           0       0.52      0.11      0.18      5475\n",
      "           1       0.92      0.99      0.96     58484\n",
      "\n",
      "    accuracy                           0.92     63959\n",
      "   macro avg       0.72      0.55      0.57     63959\n",
      "weighted avg       0.89      0.92      0.89     63959\n",
      "\n"
     ]
    }
   ],
   "source": [
    "print(classification_report(test['HeartDisease_No'], preds))"
   ]
  },
  {
   "cell_type": "code",
   "execution_count": 62,
   "id": "13a4aa11",
   "metadata": {},
   "outputs": [
    {
     "data": {
      "image/png": "[encoded data removed]",
      "text/plain": [
       "<Figure size 432x288 with 2 Axes>"
      ]
     },
     "metadata": {
      "needs_background": "light"
     },
     "output_type": "display_data"
    }
   ],
   "source": [
    "from sklearn import metrics\n",
    "confusion_matrix = metrics.confusion_matrix(test['HeartDisease_No'], preds)\n",
    "cm_display = metrics.ConfusionMatrixDisplay(confusion_matrix = confusion_matrix, display_labels = [False, True])\n",
    "cm_display.plot()\n",
    "plt.show()"
   ]
  },
  {
   "cell_type": "code",
   "execution_count": 63,
   "id": "b6b58e20",
   "metadata": {},
   "outputs": [
    {
     "name": "stderr",
     "output_type": "stream",
     "text": [
      "C:\\Users\\chemb\\anaconda3\\lib\\site-packages\\deepchecks\\__init__.py:136: DeprecationWarning:\n",
      "\n",
      "Ability to import base tabular functionality from the `deepchecks` package directly is deprecated, please import from `deepchecks.tabular` instead\n",
      "\n",
      "deepchecks - WARNING - It is recommended to initialize Dataset with categorical features by doing \"Dataset(df, cat_features=categorical_list)\". No categorical features were passed, therefore heuristically inferring categorical features in the data. 20 categorical features were inferred.: AgeCategory_0, AgeCategory_1, AgeCategory_2, AgeCategory_3, Race_0, Race_1, Race_2... For full list use dataset.cat_features\n"
     ]
    },
    {
     "data": {
      "application/vnd.jupyter.widget-view+json": {
       "model_id": "44db9f9bf61e4fc1a5f5fcb0d55fd4e1",
       "version_major": 2,
       "version_minor": 0
      },
      "text/plain": [
       "VBox(children=(HTML(value='<h4><b>ROC Report</b></h4>'), HTML(value='<p>Calculate the ROC curve for each class…"
      ]
     },
     "metadata": {},
     "output_type": "display_data"
    }
   ],
   "source": [
    "from deepchecks.checks import RocReport\n",
    "from deepchecks import Dataset\n",
    "\n",
    "RocReport().run(Dataset(test, label='HeartDisease_No'), my_log_reg)"
   ]
  },
  {
   "cell_type": "markdown",
   "id": "9c537022",
   "metadata": {},
   "source": [
    "# Logistic Regression with Scaling + SMOTE"
   ]
  },
  {
   "cell_type": "code",
   "execution_count": 64,
   "id": "1155b59e",
   "metadata": {},
   "outputs": [
    {
     "name": "stdout",
     "output_type": "stream",
     "text": [
      "(467876, 24)\n"
     ]
    },
    {
     "data": {
      "text/plain": [
       "(255836, 24)"
      ]
     },
     "execution_count": 64,
     "metadata": {},
     "output_type": "execute_result"
    }
   ],
   "source": [
    "X_resampled, y_resampled = SMOTE().fit_resample(train[features], train['HeartDisease_No'])\n",
    "print(X_resampled.shape)\n",
    "train[features].shape"
   ]
  },
  {
   "cell_type": "code",
   "execution_count": 65,
   "id": "2d148c20",
   "metadata": {},
   "outputs": [
    {
     "name": "stdout",
     "output_type": "stream",
     "text": [
      "(467876, 25)\n"
     ]
    }
   ],
   "source": [
    "features = ['BMI', 'PhysicalHealth', 'MentalHealth', 'AgeCategory_0', 'AgeCategory_1', 'AgeCategory_2', 'AgeCategory_3', 'Race_0', 'Race_1', 'Race_2', 'GenHealth_0', 'GenHealth_1', 'GenHealth_2', 'SleepTime', 'Smoking_No', 'AlcoholDrinking_No', 'Stroke_No', 'DiffWalking_No', 'Sex_Female', 'Diabetic_No', 'KidneyDisease_No', 'SkinCancer_No', 'PhysicalActivity_Yes', 'Asthma_No']\n",
    "tempDf1 = pd.DataFrame(data = X_resampled, columns = features )\n",
    "tempDf2 =  y_resampled.to_frame(name='HeartDisease_No')\n",
    "smote_df = pd.concat([tempDf1, tempDf2], axis = 1)\n",
    "print(smote_df.shape)\n",
    "smote_df.to_csv(\"heart_cleaned_encoded_smote.csv\")"
   ]
  },
  {
   "cell_type": "code",
   "execution_count": 66,
   "id": "433505d9",
   "metadata": {},
   "outputs": [
    {
     "data": {
      "text/plain": [
       "<AxesSubplot:title={'center':'Class distribution after appying SMOTE'}, xlabel='HeartDisease_No'>"
      ]
     },
     "execution_count": 66,
     "metadata": {},
     "output_type": "execute_result"
    },
    {
     "data": {
      "image/png": "[encoded data removed]",
      "text/plain": [
       "<Figure size 432x288 with 1 Axes>"
      ]
     },
     "metadata": {
      "needs_background": "light"
     },
     "output_type": "display_data"
    }
   ],
   "source": [
    "pd.Series(y_resampled).value_counts().plot(kind='bar', title='Class distribution after appying SMOTE', xlabel='HeartDisease_No')"
   ]
  },
  {
   "cell_type": "code",
   "execution_count": 67,
   "id": "5384c8c9",
   "metadata": {},
   "outputs": [
    {
     "name": "stdout",
     "output_type": "stream",
     "text": [
      "Wall time: 1.52 s\n"
     ]
    },
    {
     "data": {
      "text/plain": [
       "'Scikit-learn time: 1.52 s'"
      ]
     },
     "execution_count": 67,
     "metadata": {},
     "output_type": "execute_result"
    }
   ],
   "source": [
    "%%time\n",
    "from timeit import default_timer as timer\n",
    "# Instantiate the new Logistic Regression\n",
    "log_reg_2 = LogisticRegression(random_state = 2022)\n",
    "start = timer()\n",
    "# Fit the model with the data that has been resampled with SMOTE\n",
    "log_reg_2.fit(X_resampled, y_resampled)\n",
    "train_patched = timer() - start\n",
    "f\"Scikit-learn time: {train_patched:.2f} s\""
   ]
  },
  {
   "cell_type": "code",
   "execution_count": 68,
   "id": "d21427de",
   "metadata": {},
   "outputs": [],
   "source": [
    "# Predict on the test set (not resampled to obtain honest evaluation)\n",
    "preds2 = log_reg_2.predict(test[features])"
   ]
  },
  {
   "cell_type": "code",
   "execution_count": 69,
   "id": "909df42e",
   "metadata": {},
   "outputs": [],
   "source": [
    "pkl.dump(log_reg_2, open('model_lr_smote.pkl', 'wb'))"
   ]
  },
  {
   "cell_type": "code",
   "execution_count": 70,
   "id": "d3a4581e",
   "metadata": {},
   "outputs": [
    {
     "name": "stdout",
     "output_type": "stream",
     "text": [
      "True negatives:  4127 \n",
      "False positives:  1348 \n",
      "False negatives:  14235 \n",
      "True positives:  44249\n"
     ]
    }
   ],
   "source": [
    "tn, fp, fn, tp = metrics.confusion_matrix(test['HeartDisease_No'], preds2).ravel()\n",
    "print('True negatives: ', tn, '\\nFalse positives: ', fp, '\\nFalse negatives: ', fn, '\\nTrue positives: ', tp)"
   ]
  },
  {
   "cell_type": "code",
   "execution_count": 71,
   "id": "ae92cb8b",
   "metadata": {},
   "outputs": [
    {
     "data": {
      "image/png": "[encoded data removed]",
      "text/plain": [
       "<Figure size 432x288 with 2 Axes>"
      ]
     },
     "metadata": {
      "needs_background": "light"
     },
     "output_type": "display_data"
    }
   ],
   "source": [
    "from sklearn import metrics\n",
    "confusion_matrix = metrics.confusion_matrix(test['HeartDisease_No'], preds2)\n",
    "cm_display = metrics.ConfusionMatrixDisplay(confusion_matrix = confusion_matrix, display_labels = [False, True])\n",
    "cm_display.plot()\n",
    "plt.show()"
   ]
  },
  {
   "cell_type": "code",
   "execution_count": 72,
   "id": "d15e446d",
   "metadata": {},
   "outputs": [
    {
     "name": "stdout",
     "output_type": "stream",
     "text": [
      "              precision    recall  f1-score   support\n",
      "\n",
      "           0       0.22      0.75      0.35      5475\n",
      "           1       0.97      0.76      0.85     58484\n",
      "\n",
      "    accuracy                           0.76     63959\n",
      "   macro avg       0.60      0.76      0.60     63959\n",
      "weighted avg       0.91      0.76      0.81     63959\n",
      "\n"
     ]
    }
   ],
   "source": [
    "print(classification_report(test['HeartDisease_No'], preds2))"
   ]
  },
  {
   "cell_type": "code",
   "execution_count": 73,
   "id": "c71c71af",
   "metadata": {},
   "outputs": [
    {
     "name": "stderr",
     "output_type": "stream",
     "text": [
      "C:\\Users\\chemb\\anaconda3\\lib\\site-packages\\deepchecks\\__init__.py:136: DeprecationWarning:\n",
      "\n",
      "Ability to import base tabular functionality from the `deepchecks` package directly is deprecated, please import from `deepchecks.tabular` instead\n",
      "\n",
      "deepchecks - WARNING - It is recommended to initialize Dataset with categorical features by doing \"Dataset(df, cat_features=categorical_list)\". No categorical features were passed, therefore heuristically inferring categorical features in the data. 20 categorical features were inferred.: AgeCategory_0, AgeCategory_1, AgeCategory_2, AgeCategory_3, Race_0, Race_1, Race_2... For full list use dataset.cat_features\n"
     ]
    },
    {
     "data": {
      "application/vnd.jupyter.widget-view+json": {
       "model_id": "3eb5561a085f4c2f8c025f63016db733",
       "version_major": 2,
       "version_minor": 0
      },
      "text/plain": [
       "VBox(children=(HTML(value='<h4><b>ROC Report</b></h4>'), HTML(value='<p>Calculate the ROC curve for each class…"
      ]
     },
     "metadata": {},
     "output_type": "display_data"
    }
   ],
   "source": [
    "from deepchecks.checks import RocReport\n",
    "from deepchecks import Dataset\n",
    "\n",
    "RocReport().run(Dataset(test, label='HeartDisease_No'), log_reg_2)"
   ]
  },
  {
   "cell_type": "code",
   "execution_count": 79,
   "id": "e574851c",
   "metadata": {},
   "outputs": [
    {
     "name": "stderr",
     "output_type": "stream",
     "text": [
      "C:\\Users\\chemb\\anaconda3\\lib\\site-packages\\deepchecks\\__init__.py:136: DeprecationWarning:\n",
      "\n",
      "Ability to import base tabular functionality from the `deepchecks` package directly is deprecated, please import from `deepchecks.tabular` instead\n",
      "\n"
     ]
    },
    {
     "name": "stdout",
     "output_type": "stream",
     "text": [
      "        BMI  PhysicalHealth  MentalHealth  AgeCategory_0  AgeCategory_1  \\\n",
      "0 -0.167619        0.079022     -0.490039       1.252493      -0.899057   \n",
      "1  0.143894       -0.424070      1.395515       1.252493      -0.899057   \n",
      "2  0.101415       -0.424070     -0.490039      -0.798408       1.112276   \n",
      "3 -0.616007       -0.424070     -0.490039      -0.798408      -0.899057   \n",
      "4 -0.394173       -0.424070     -0.490039       1.252493      -0.899057   \n",
      "\n",
      "   AgeCategory_2  AgeCategory_3    Race_0    Race_1    Race_2  GenHealth_0  \\\n",
      "0       0.970591      -1.119679 -0.397189 -0.472932  0.458684    -0.568599   \n",
      "1      -1.030300      -1.119679  2.517695 -0.472932  0.458684    -0.568599   \n",
      "2      -1.030300       0.893113  2.517695  2.114468 -2.180150    -0.568599   \n",
      "3       0.970591       0.893113 -0.397189 -0.472932  0.458684     1.758710   \n",
      "4      -1.030300      -1.119679 -0.397189 -0.472932  0.458684     1.758710   \n",
      "\n",
      "   GenHealth_1  GenHealth_2  SleepTime  Smoking_No  AlcoholDrinking_No  \\\n",
      "0    -0.815901     0.409712  -0.067601    0.837890            0.270320   \n",
      "1     1.225639     0.409712  -0.763977   -1.193474           -3.699323   \n",
      "2    -0.815901     0.409712  -0.067601    0.837890            0.270320   \n",
      "3    -0.815901     0.409712   0.628776    0.837890            0.270320   \n",
      "4    -0.815901     0.409712  -0.067601    0.837890            0.270320   \n",
      "\n",
      "   Stroke_No  DiffWalking_No  Sex_Female  Diabetic_No  KidneyDisease_No  \\\n",
      "0    0.19804        0.401578   -1.050739     0.431219          0.195554   \n",
      "1    0.19804        0.401578   -1.050739     0.431219          0.195554   \n",
      "2    0.19804        0.401578   -1.050739     0.431219          0.195554   \n",
      "3    0.19804        0.401578   -1.050739    -2.319006          0.195554   \n",
      "4    0.19804        0.401578    0.951711     0.431219          0.195554   \n",
      "\n",
      "   SkinCancer_No  PhysicalActivity_Yes  Asthma_No  HeartDisease_No  \n",
      "0       0.320675              0.538256  -2.541515                1  \n",
      "1       0.320675             -1.857852   0.393466                1  \n",
      "2       0.320675              0.538256   0.393466                1  \n",
      "3       0.320675              0.538256   0.393466                1  \n",
      "4       0.320675              0.538256   0.393466                1  \n",
      "             BMI  PhysicalHealth  MentalHealth  AgeCategory_0  AgeCategory_1  \\\n",
      "306630 -0.900774       -0.298297     -0.490039       1.252493      -0.899057   \n",
      "28641   1.786413       -0.298297     -0.490039       1.252493      -0.899057   \n",
      "215710 -1.111595       -0.424070      2.024033       1.252493       1.112276   \n",
      "16961  -0.287189        3.349118     -0.490039      -0.798408       1.112276   \n",
      "67770   0.538791       -0.424070     -0.490039       1.252493      -0.899057   \n",
      "\n",
      "        AgeCategory_2  AgeCategory_3    Race_0    Race_1    Race_2  \\\n",
      "306630      -1.030300       0.893113 -0.397189 -0.472932  0.458684   \n",
      "28641       -1.030300       0.893113 -0.397189 -0.472932  0.458684   \n",
      "215710      -1.030300      -1.119679 -0.397189 -0.472932  0.458684   \n",
      "16961       -1.030300      -1.119679 -0.397189  2.114468 -2.180150   \n",
      "67770        0.970591      -1.119679 -0.397189  2.114468  0.458684   \n",
      "\n",
      "        GenHealth_0  GenHealth_1  GenHealth_2  SleepTime  Smoking_No  \\\n",
      "306630    -0.568599    -0.815901     0.409712   0.628776    0.837890   \n",
      "28641     -0.568599    -0.815901     0.409712  -1.460354   -1.193474   \n",
      "215710     1.758710    -0.815901     0.409712   2.717905   -1.193474   \n",
      "16961     -0.568599     1.225639     0.409712  -0.067601   -1.193474   \n",
      "67770     -0.568599    -0.815901     0.409712  -0.763977    0.837890   \n",
      "\n",
      "        AlcoholDrinking_No  Stroke_No  DiffWalking_No  Sex_Female  \\\n",
      "306630            0.270320    0.19804        0.401578    0.951711   \n",
      "28641            -3.699323    0.19804        0.401578   -1.050739   \n",
      "215710           -3.699323    0.19804        0.401578    0.951711   \n",
      "16961             0.270320    0.19804        0.401578   -1.050739   \n",
      "67770             0.270320    0.19804        0.401578   -1.050739   \n",
      "\n",
      "        Diabetic_No  KidneyDisease_No  SkinCancer_No  PhysicalActivity_Yes  \\\n",
      "306630     0.431219          0.195554       0.320675              0.538256   \n",
      "28641      0.431219          0.195554       0.320675              0.538256   \n",
      "215710     0.431219          0.195554       0.320675              0.538256   \n",
      "16961     -2.319006          0.195554       0.320675             -1.857852   \n",
      "67770      0.431219          0.195554       0.320675              0.538256   \n",
      "\n",
      "        Asthma_No  HeartDisease_No  \n",
      "306630   0.393466                1  \n",
      "28641    0.393466                1  \n",
      "215710  -2.541515                1  \n",
      "16961    0.393466                1  \n",
      "67770   -2.541515                1  \n"
     ]
    }
   ],
   "source": [
    "from deepchecks.tabular.suites import full_suite\n",
    "from deepchecks import Dataset\n",
    "\n",
    "tempDf = pd.concat([X_resampled, y_resampled], axis=1)\n",
    "train_ds1 = Dataset(tempDf, label=\"HeartDisease_No\", cat_features=[])\n",
    "test_ds1 = Dataset(test, label=\"HeartDisease_No\", cat_features=[])\n",
    "print(tempDf.head(5))\n",
    "print(test.head(5))"
   ]
  },
  {
   "cell_type": "code",
   "execution_count": 80,
   "id": "69345607",
   "metadata": {},
   "outputs": [
    {
     "data": {
      "text/html": [
       "\n",
       "    <style>\n",
       "        progress {\n",
       "            -webkit-appearance: none;\n",
       "            border: none;\n",
       "            border-radius: 3px;\n",
       "            width: 300px;\n",
       "            height: 20px;\n",
       "            vertical-align: middle;\n",
       "            margin-right: 10px;\n",
       "            background-color: aliceblue;\n",
       "        }\n",
       "        progress::-webkit-progress-bar {\n",
       "            border-radius: 3px;\n",
       "            background-color: aliceblue;\n",
       "        }\n",
       "        progress::-webkit-progress-value {\n",
       "            background-color: #9d60fb;\n",
       "        }\n",
       "        progress::-moz-progress-bar {\n",
       "            background-color: #9d60fb;\n",
       "        }\n",
       "    </style>\n",
       "    "
      ]
     },
     "metadata": {},
     "output_type": "display_data"
    },
    {
     "data": {
      "text/html": []
     },
     "metadata": {},
     "output_type": "display_data"
    },
    {
     "data": {
      "text/plain": [
       "'Full Suite.html'"
      ]
     },
     "execution_count": 80,
     "metadata": {},
     "output_type": "execute_result"
    }
   ],
   "source": [
    "suite = full_suite()\n",
    "result = suite.run(train_ds1, test_ds1, log_reg_2)\n",
    "result.save_as_html(\"Full Suite\")"
   ]
  },
  {
   "cell_type": "markdown",
   "id": "d3265a9c",
   "metadata": {},
   "source": [
    "#                Testing for overfitting"
   ]
  },
  {
   "cell_type": "code",
   "execution_count": 84,
   "id": "12a5d59c",
   "metadata": {},
   "outputs": [],
   "source": [
    "X_resampled = X_resampled.head(1000)\n",
    "y_resampled = y_resampled.head(1000)\n",
    "tempDf = pd.concat([X_resampled, y_resampled], axis=1)\n",
    "train_ds1 = Dataset(tempDf, label=\"HeartDisease_No\", cat_features=[])\n",
    "test_ds1 = Dataset(test, label=\"HeartDisease_No\", cat_features=[])"
   ]
  },
  {
   "cell_type": "code",
   "execution_count": 86,
   "id": "a2455dab",
   "metadata": {},
   "outputs": [
    {
     "name": "stdout",
     "output_type": "stream",
     "text": [
      "Wall time: 16 ms\n"
     ]
    },
    {
     "data": {
      "text/plain": [
       "'Scikit-learn time: 0.02 s'"
      ]
     },
     "execution_count": 86,
     "metadata": {},
     "output_type": "execute_result"
    }
   ],
   "source": [
    "%%time\n",
    "from timeit import default_timer as timer\n",
    "# Instantiate the new Logistic Regression\n",
    "log_reg_2 = LogisticRegression(random_state = 2022)\n",
    "start = timer()\n",
    "# Fit the model with the data that has been resampled with SMOTE\n",
    "log_reg_2.fit(X_resampled, y_resampled)\n",
    "train_patched = timer() - start\n",
    "f\"Scikit-learn time: {train_patched:.2f} s\""
   ]
  },
  {
   "cell_type": "code",
   "execution_count": 83,
   "id": "c0f09bd2",
   "metadata": {},
   "outputs": [
    {
     "data": {
      "text/html": [
       "\n",
       "    <style>\n",
       "        progress {\n",
       "            -webkit-appearance: none;\n",
       "            border: none;\n",
       "            border-radius: 3px;\n",
       "            width: 300px;\n",
       "            height: 20px;\n",
       "            vertical-align: middle;\n",
       "            margin-right: 10px;\n",
       "            background-color: aliceblue;\n",
       "        }\n",
       "        progress::-webkit-progress-bar {\n",
       "            border-radius: 3px;\n",
       "            background-color: aliceblue;\n",
       "        }\n",
       "        progress::-webkit-progress-value {\n",
       "            background-color: #9d60fb;\n",
       "        }\n",
       "        progress::-moz-progress-bar {\n",
       "            background-color: #9d60fb;\n",
       "        }\n",
       "    </style>\n",
       "    "
      ]
     },
     "metadata": {},
     "output_type": "display_data"
    },
    {
     "data": {
      "text/html": []
     },
     "metadata": {},
     "output_type": "display_data"
    },
    {
     "data": {
      "text/plain": [
       "'Full_Suite_1000.html'"
      ]
     },
     "execution_count": 83,
     "metadata": {},
     "output_type": "execute_result"
    }
   ],
   "source": [
    "suite = full_suite()\n",
    "result = suite.run(train_dataset=train_ds1, test_dataset=test_ds1, model=log_reg_2)\n",
    "result.save_as_html(\"Full_Suite_1000\")"
   ]
  },
  {
   "cell_type": "markdown",
   "id": "f5ed0929",
   "metadata": {},
   "source": [
    "# Logistic Regression with Scaling + SMOTE + PCA"
   ]
  },
  {
   "cell_type": "code",
   "execution_count": null,
   "id": "998df222",
   "metadata": {},
   "outputs": [],
   "source": [
    "pca = PCA(n_components = 0.95)\n",
    "pca.fit(X_resampled)\n",
    "reduced = pca.transform(X_resampled)\n",
    "print(\"\\n n_components_--->\",pca.n_components_)\n",
    "principalTrainDf = pd.DataFrame(data = reduced, columns = ['principal component 1','principal component 2','principal component 3', 'principal component 4','principal component 5','principal component 6','principal component 7','principal component 8','principal component 9','principal component 10','principal component 11','principal component 12','principal component 13','principal component 14','principal component 15','principal component 16','principal component 17','principal component 18','principal component 19','principal component 20'])\n",
    "finalTrainDf = pd.concat([principalTrainDf, y_resampled], axis = 1)\n",
    "print(\"\\n explained_variance_ratio_--->\",pca.explained_variance_ratio_)\n",
    "finalTrainDf.to_csv(\"heart_cleaned_encoded_trained_pca.csv\")\n",
    "\n",
    "\n",
    "testTargetVars = pd.DataFrame()\n",
    "testTargetVars['HeartDisease_No'] = test['HeartDisease_No'].values\n",
    "pcaTest = test.drop(['HeartDisease_No'], axis=1)\n",
    "reduced = pca.transform(pcaTest)\n",
    "print(\"\\n n_components_--->\",pca.n_components_)\n",
    "principalTestDf = pd.DataFrame(data = reduced, columns = ['principal component 1','principal component 2','principal component 3', 'principal component 4','principal component 5','principal component 6','principal component 7','principal component 8','principal component 9','principal component 10','principal component 11','principal component 12','principal component 13','principal component 14','principal component 15','principal component 16','principal component 17','principal component 18','principal component 19','principal component 20'])\n",
    "finalTestDf = pd.concat([principalTestDf, testTargetVars], axis = 1)\n",
    "print(\"\\n explained_variance_ratio_--->\",pca.explained_variance_ratio_)\n",
    "finalTestDf.to_csv(\"heart_cleaned_encoded_tested_pca.csv\")"
   ]
  },
  {
   "cell_type": "code",
   "execution_count": null,
   "id": "eb15572b",
   "metadata": {},
   "outputs": [],
   "source": [
    "%%time\n",
    "features = ['principal component 1','principal component 2','principal component 3', 'principal component 4','principal component 5','principal component 6','principal component 7','principal component 8','principal component 9','principal component 10','principal component 11','principal component 12','principal component 13','principal component 14','principal component 15','principal component 16','principal component 17','principal component 18','principal component 19','principal component 20']\n",
    "\n",
    "# Instantiate the Logistic Regression with only default settings\n",
    "my_log_reg = LogisticRegression()\n",
    "\n",
    "# Fit the logistic regression on the independent variables of the train data with buy as dependent variable\n",
    "my_log_reg.fit(finalTrainDf[features], finalTrainDf['HeartDisease_No'])"
   ]
  },
  {
   "cell_type": "code",
   "execution_count": null,
   "id": "d2e587a8",
   "metadata": {},
   "outputs": [],
   "source": [
    "# Make a prediction using our model on the test set\n",
    "preds = my_log_reg.predict(finalTestDf[features])"
   ]
  },
  {
   "cell_type": "code",
   "execution_count": null,
   "id": "2740d24c",
   "metadata": {},
   "outputs": [],
   "source": [
    "pkl.dump(my_log_reg, open('model_lr_pca.pkl', 'wb'))"
   ]
  },
  {
   "cell_type": "code",
   "execution_count": null,
   "id": "d7b3c0da",
   "metadata": {},
   "outputs": [],
   "source": [
    "tn, fp, fn, tp = metrics.confusion_matrix(finalTestDf['HeartDisease_No'], preds).ravel()\n",
    "print('True negatives: ', tn, '\\nFalse positives: ', fp, '\\nFalse negatives: ', fn, '\\nTrue Positives: ', tp)"
   ]
  },
  {
   "cell_type": "code",
   "execution_count": null,
   "id": "2f22b000",
   "metadata": {},
   "outputs": [],
   "source": [
    "print(classification_report(finalTestDf['HeartDisease_No'], preds))"
   ]
  },
  {
   "cell_type": "code",
   "execution_count": null,
   "id": "7c52c050",
   "metadata": {},
   "outputs": [],
   "source": [
    "from sklearn import metrics\n",
    "confusion_matrix = metrics.confusion_matrix(finalTestDf['HeartDisease_No'], preds)\n",
    "cm_display = metrics.ConfusionMatrixDisplay(confusion_matrix = confusion_matrix, display_labels = [False, True])\n",
    "cm_display.plot()\n",
    "plt.show()"
   ]
  },
  {
   "cell_type": "code",
   "execution_count": null,
   "id": "a527a742",
   "metadata": {},
   "outputs": [],
   "source": [
    "from deepchecks.checks import RocReport\n",
    "from deepchecks import Dataset\n",
    "\n",
    "RocReport().run(Dataset(finalTestDf, label='HeartDisease_No'), my_log_reg)"
   ]
  },
  {
   "cell_type": "markdown",
   "id": "860fbcf2",
   "metadata": {},
   "source": [
    "# Logistic Regression with Scaling + SMOTE + ICA"
   ]
  },
  {
   "cell_type": "code",
   "execution_count": null,
   "id": "2258024e",
   "metadata": {},
   "outputs": [],
   "source": [
    "# Creating ICA object\n",
    "ica = FastICA(n_components=20)\n",
    "independentComponentValues=ica.fit_transform(X_resampled)\n",
    "#Creating the dataframe\n",
    "reducedData=pd.DataFrame(data=independentComponentValues, columns=['independent component 1','independent component 2','independent component 3','independent component 4','independent component 5','independent component 6','independent component 7','independent component 8','independent component 9','independent component 10','independent component 11','independent component 12','independent component 13','independent component 14','independent component 15','independent component 16','independent component 17','independent component 18','independent component 19','independent component 20'])\n",
    "finalTrainDf = pd.concat([reducedData, y_resampled], axis = 1)\n",
    "# print(finalTrainDf.head(5))\n",
    "finalTrainDf.to_csv(\"heart_cleaned_encoded_trained_ica.csv\")\n",
    "\n",
    "testTargetVars = pd.DataFrame()\n",
    "testTargetVars['HeartDisease_No'] = test['HeartDisease_No'].values\n",
    "icaTest = test.drop(['HeartDisease_No'], axis=1)\n",
    "independentComponentValues=ica.transform(icaTest)\n",
    "reducedData=pd.DataFrame(data=independentComponentValues, columns=['independent component 1','independent component 2','independent component 3','independent component 4','independent component 5','independent component 6','independent component 7','independent component 8','independent component 9','independent component 10','independent component 11','independent component 12','independent component 13','independent component 14','independent component 15','independent component 16','independent component 17','independent component 18','independent component 19','independent component 20'])\n",
    "finalTestDf = pd.concat([reducedData, testTargetVars], axis = 1)\n",
    "finalTestDf.to_csv(\"heart_cleaned_encoded_tested_ica.csv\")"
   ]
  },
  {
   "cell_type": "code",
   "execution_count": null,
   "id": "d2c17b3c",
   "metadata": {},
   "outputs": [],
   "source": [
    "%%time\n",
    "features = ['independent component 1','independent component 2','independent component 3','independent component 4','independent component 5','independent component 6','independent component 7','independent component 8','independent component 9','independent component 10','independent component 11','independent component 12','independent component 13','independent component 14','independent component 15','independent component 16','independent component 17','independent component 18','independent component 19','independent component 20']\n",
    "\n",
    "# Instantiate the Logistic Regression with only default settings\n",
    "my_log_reg = LogisticRegression()\n",
    "\n",
    "# Fit the logistic regression on the independent variables of the train data with buy as dependent variable\n",
    "my_log_reg.fit(finalTrainDf[features], finalTrainDf['HeartDisease_No'])"
   ]
  },
  {
   "cell_type": "code",
   "execution_count": null,
   "id": "4378e40f",
   "metadata": {},
   "outputs": [],
   "source": [
    "# Make a prediction using our model on the test set\n",
    "preds = my_log_reg.predict(finalTestDf[features])"
   ]
  },
  {
   "cell_type": "code",
   "execution_count": null,
   "id": "38ea5039",
   "metadata": {},
   "outputs": [],
   "source": [
    "pkl.dump(my_log_reg, open('model_lr_ica.pkl', 'wb'))"
   ]
  },
  {
   "cell_type": "code",
   "execution_count": null,
   "id": "ae5d0f2d",
   "metadata": {},
   "outputs": [],
   "source": [
    "tn, fp, fn, tp = metrics.confusion_matrix(finalTestDf['HeartDisease_No'], preds).ravel()\n",
    "print('True negatives: ', tn, '\\nFalse positives: ', fp, '\\nFalse negatives: ', fn, '\\nTrue Positives: ', tp)"
   ]
  },
  {
   "cell_type": "code",
   "execution_count": null,
   "id": "416dfa95",
   "metadata": {},
   "outputs": [],
   "source": [
    "print(classification_report(finalTestDf['HeartDisease_No'], preds))"
   ]
  },
  {
   "cell_type": "code",
   "execution_count": null,
   "id": "e63d4b81",
   "metadata": {},
   "outputs": [],
   "source": [
    "from sklearn import metrics\n",
    "confusion_matrix = metrics.confusion_matrix(finalTestDf['HeartDisease_No'], preds)\n",
    "cm_display = metrics.ConfusionMatrixDisplay(confusion_matrix = confusion_matrix, display_labels = [False, True])\n",
    "cm_display.plot()\n",
    "plt.show()"
   ]
  },
  {
   "cell_type": "code",
   "execution_count": null,
   "id": "cbba655f",
   "metadata": {},
   "outputs": [],
   "source": [
    "from deepchecks.checks import RocReport\n",
    "from deepchecks import Dataset\n",
    "\n",
    "RocReport().run(Dataset(finalTestDf, label='HeartDisease_No'), my_log_reg)"
   ]
  },
  {
   "cell_type": "markdown",
   "id": "26e8f1e7",
   "metadata": {},
   "source": [
    "# Logistic Regression with Scaling + SMOTE + LDA"
   ]
  },
  {
   "cell_type": "code",
   "execution_count": null,
   "id": "bac27bc8",
   "metadata": {},
   "outputs": [],
   "source": [
    "%%time\n",
    "features = ['BMI', 'PhysicalHealth', 'MentalHealth', 'AgeCategory_0', 'AgeCategory_1', 'AgeCategory_2', 'AgeCategory_3', 'Race_0', 'Race_1', 'Race_2', 'GenHealth_0', 'GenHealth_1', 'GenHealth_2', 'SleepTime', 'Smoking_No', 'AlcoholDrinking_No', 'Stroke_No', 'DiffWalking_No', 'Sex_Female', 'Diabetic_No', 'KidneyDisease_No', 'SkinCancer_No', 'PhysicalActivity_Yes', 'Asthma_No']\n",
    "\n",
    "X_train = pd.DataFrame(X_resampled)\n",
    "y_train = y_resampled.to_frame(name='HeartDisease_No')\n",
    "X_train.columns = features\n",
    "X_test = pd.DataFrame(test[features])\n",
    "\n",
    "lda = LDA(n_components=1)\n",
    "X_train = lda.fit_transform(X_train, y_train)\n",
    "reducedTrainData=pd.DataFrame(data=X_train, columns=['lda 1'])\n",
    "print(reducedTrainData.shape)\n",
    "\n",
    "X_test = lda.transform(X_test)\n",
    "reducedTestData=pd.DataFrame(data=X_test, columns=['lda 1'])\n",
    "print(reducedTestData.shape)\n",
    "\n",
    "tempDF1 = pd.concat([reducedTrainData, y_train], axis=1)\n",
    "tempDF1.to_csv(\"heart_cleaned_encoded_trained_lda.csv\")\n",
    "tempDF2 = pd.concat([reducedTestData, test[\"HeartDisease_No\"].to_frame(name='HeartDisease_No').reset_index(drop=True)], axis=1)\n",
    "tempDF2.to_csv(\"heart_cleaned_encoded_tested_lda.csv\")"
   ]
  },
  {
   "cell_type": "code",
   "execution_count": null,
   "id": "f2e76ca7",
   "metadata": {},
   "outputs": [],
   "source": [
    "print(reducedTestData.shape)\n",
    "print(type(test[\"HeartDisease_No\"].to_frame(name='HeartDisease_No')))\n",
    "print(test[\"HeartDisease_No\"].to_frame(name='HeartDisease_No').isnull().sum())"
   ]
  },
  {
   "cell_type": "code",
   "execution_count": null,
   "id": "de617e88",
   "metadata": {},
   "outputs": [],
   "source": [
    "%%time\n",
    "features = ['lda 1']\n",
    "\n",
    "# Instantiate the Logistic Regression with only default settings\n",
    "my_log_reg = LogisticRegression()\n",
    "\n",
    "# Fit the logistic regression on the independent variables of the train data with buy as dependent variable\n",
    "my_log_reg.fit(X_train, y_train)"
   ]
  },
  {
   "cell_type": "code",
   "execution_count": null,
   "id": "e76edaa2",
   "metadata": {},
   "outputs": [],
   "source": [
    "# Make a prediction using our model on the test set\n",
    "preds = my_log_reg.predict(X_test)"
   ]
  },
  {
   "cell_type": "code",
   "execution_count": null,
   "id": "70abc219",
   "metadata": {},
   "outputs": [],
   "source": [
    "pkl.dump(my_log_reg, open('model_lr_lda.pkl', 'wb'))"
   ]
  },
  {
   "cell_type": "code",
   "execution_count": null,
   "id": "51e06bff",
   "metadata": {},
   "outputs": [],
   "source": [
    "tn, fp, fn, tp = metrics.confusion_matrix(tempDF2[\"HeartDisease_No\"], preds).ravel()\n",
    "print('True negatives: ', tn, '\\nFalse positives: ', fp, '\\nFalse negatives: ', fn, '\\nTrue Positives: ', tp)"
   ]
  },
  {
   "cell_type": "code",
   "execution_count": null,
   "id": "88edd6fb",
   "metadata": {},
   "outputs": [],
   "source": [
    "print(classification_report(tempDF2[\"HeartDisease_No\"], preds))"
   ]
  },
  {
   "cell_type": "code",
   "execution_count": null,
   "id": "59dff00d",
   "metadata": {},
   "outputs": [],
   "source": [
    "from sklearn import metrics\n",
    "confusion_matrix = metrics.confusion_matrix(tempDF2['HeartDisease_No'], preds)\n",
    "cm_display = metrics.ConfusionMatrixDisplay(confusion_matrix = confusion_matrix, display_labels = [False, True])\n",
    "cm_display.plot()\n",
    "plt.show()"
   ]
  },
  {
   "cell_type": "code",
   "execution_count": null,
   "id": "883f702c",
   "metadata": {},
   "outputs": [],
   "source": [
    "from deepchecks.checks import RocReport\n",
    "from deepchecks import Dataset\n",
    "\n",
    "RocReport().run(Dataset(tempDF2, label='HeartDisease_No'), my_log_reg)"
   ]
  }
 ],
 "metadata": {
  "kernelspec": {
   "display_name": "Python 3 (ipykernel)",
   "language": "python",
   "name": "python3"
  },
  "language_info": {
   "codemirror_mode": {
    "name": "ipython",
    "version": 3
   },
   "file_extension": ".py",
   "mimetype": "text/x-python",
   "name": "python",
   "nbconvert_exporter": "python",
   "pygments_lexer": "ipython3",
   "version": "3.9.7"
  },
  "vscode": {
   "interpreter": {
    "hash": "31c5a5a673828ca33c0b5d17b8e82ce375b08be8c57c158ad0611b17191b8b5d"
   }
  }
 },
 "nbformat": 4,
 "nbformat_minor": 5
}
